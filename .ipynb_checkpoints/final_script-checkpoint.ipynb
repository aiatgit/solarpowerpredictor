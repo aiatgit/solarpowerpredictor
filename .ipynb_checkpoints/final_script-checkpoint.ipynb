{
 "cells": [
  {
   "cell_type": "code",
   "execution_count": 1,
   "metadata": {},
   "outputs": [],
   "source": [
    "#for rnn\n",
    "import numpy as np\n",
    "import pandas as pd\n",
    "import matplotlib.pyplot as plt\n"
   ]
  },
  {
   "cell_type": "code",
   "execution_count": 2,
   "metadata": {},
   "outputs": [],
   "source": [
    "x1=pd.read_csv(\"Copy of Irradiance-1MW-5Min-2014.csv\",header=None)\n",
    "\n",
    "x2=pd.read_csv(\"Copy of Irradiance-1MW-5Min-2015.csv\",header=None)\n",
    "\n",
    "X=pd.concat([x1,x2],ignore_index=True)"
   ]
  },
  {
   "cell_type": "code",
   "execution_count": 3,
   "metadata": {},
   "outputs": [],
   "source": [
    "y=pd.read_csv(\"11MW-GenerationFile-5Min.csv\",header=None)\n",
    "y1=y.iloc[:,[4]].values\n",
    "y2=y.iloc[:,[5]].values\n",
    "y3=y.iloc[:,[6]].values\n",
    "y4=y.iloc[:,[7]].values\n",
    "y5=y.iloc[:,[8]].values\n",
    "y6=y.iloc[:,[9]].values\n",
    "y_np=y2+y3+y4+y5+y6\n",
    "y_np=pd.DataFrame(y_np)"
   ]
  },
  {
   "cell_type": "code",
   "execution_count": 19,
   "metadata": {},
   "outputs": [],
   "source": [
    "y=y_np.iloc[1152:2305 , :]\n",
    "X1=X.iloc[1152:2305 , :]"
   ]
  },
  {
   "cell_type": "code",
   "execution_count": 20,
   "metadata": {},
   "outputs": [
    {
     "data": {
      "text/html": [
       "<div>\n",
       "<style scoped>\n",
       "    .dataframe tbody tr th:only-of-type {\n",
       "        vertical-align: middle;\n",
       "    }\n",
       "\n",
       "    .dataframe tbody tr th {\n",
       "        vertical-align: top;\n",
       "    }\n",
       "\n",
       "    .dataframe thead th {\n",
       "        text-align: right;\n",
       "    }\n",
       "</style>\n",
       "<table border=\"1\" class=\"dataframe\">\n",
       "  <thead>\n",
       "    <tr style=\"text-align: right;\">\n",
       "      <th></th>\n",
       "      <th>0</th>\n",
       "    </tr>\n",
       "  </thead>\n",
       "  <tbody>\n",
       "    <tr>\n",
       "      <th>1152</th>\n",
       "      <td>0.0</td>\n",
       "    </tr>\n",
       "    <tr>\n",
       "      <th>1153</th>\n",
       "      <td>0.0</td>\n",
       "    </tr>\n",
       "    <tr>\n",
       "      <th>1154</th>\n",
       "      <td>0.0</td>\n",
       "    </tr>\n",
       "    <tr>\n",
       "      <th>1155</th>\n",
       "      <td>0.0</td>\n",
       "    </tr>\n",
       "    <tr>\n",
       "      <th>1156</th>\n",
       "      <td>0.0</td>\n",
       "    </tr>\n",
       "    <tr>\n",
       "      <th>1157</th>\n",
       "      <td>0.0</td>\n",
       "    </tr>\n",
       "    <tr>\n",
       "      <th>1158</th>\n",
       "      <td>0.0</td>\n",
       "    </tr>\n",
       "    <tr>\n",
       "      <th>1159</th>\n",
       "      <td>0.0</td>\n",
       "    </tr>\n",
       "    <tr>\n",
       "      <th>1160</th>\n",
       "      <td>0.0</td>\n",
       "    </tr>\n",
       "    <tr>\n",
       "      <th>1161</th>\n",
       "      <td>0.0</td>\n",
       "    </tr>\n",
       "    <tr>\n",
       "      <th>1162</th>\n",
       "      <td>0.0</td>\n",
       "    </tr>\n",
       "    <tr>\n",
       "      <th>1163</th>\n",
       "      <td>0.0</td>\n",
       "    </tr>\n",
       "    <tr>\n",
       "      <th>1164</th>\n",
       "      <td>0.0</td>\n",
       "    </tr>\n",
       "    <tr>\n",
       "      <th>1165</th>\n",
       "      <td>0.0</td>\n",
       "    </tr>\n",
       "    <tr>\n",
       "      <th>1166</th>\n",
       "      <td>0.0</td>\n",
       "    </tr>\n",
       "    <tr>\n",
       "      <th>1167</th>\n",
       "      <td>0.0</td>\n",
       "    </tr>\n",
       "    <tr>\n",
       "      <th>1168</th>\n",
       "      <td>0.0</td>\n",
       "    </tr>\n",
       "    <tr>\n",
       "      <th>1169</th>\n",
       "      <td>0.0</td>\n",
       "    </tr>\n",
       "    <tr>\n",
       "      <th>1170</th>\n",
       "      <td>0.0</td>\n",
       "    </tr>\n",
       "    <tr>\n",
       "      <th>1171</th>\n",
       "      <td>0.0</td>\n",
       "    </tr>\n",
       "    <tr>\n",
       "      <th>1172</th>\n",
       "      <td>0.0</td>\n",
       "    </tr>\n",
       "    <tr>\n",
       "      <th>1173</th>\n",
       "      <td>0.0</td>\n",
       "    </tr>\n",
       "    <tr>\n",
       "      <th>1174</th>\n",
       "      <td>0.0</td>\n",
       "    </tr>\n",
       "    <tr>\n",
       "      <th>1175</th>\n",
       "      <td>0.0</td>\n",
       "    </tr>\n",
       "    <tr>\n",
       "      <th>1176</th>\n",
       "      <td>0.0</td>\n",
       "    </tr>\n",
       "    <tr>\n",
       "      <th>1177</th>\n",
       "      <td>0.0</td>\n",
       "    </tr>\n",
       "    <tr>\n",
       "      <th>1178</th>\n",
       "      <td>0.0</td>\n",
       "    </tr>\n",
       "    <tr>\n",
       "      <th>1179</th>\n",
       "      <td>0.0</td>\n",
       "    </tr>\n",
       "    <tr>\n",
       "      <th>1180</th>\n",
       "      <td>0.0</td>\n",
       "    </tr>\n",
       "    <tr>\n",
       "      <th>1181</th>\n",
       "      <td>0.0</td>\n",
       "    </tr>\n",
       "    <tr>\n",
       "      <th>...</th>\n",
       "      <td>...</td>\n",
       "    </tr>\n",
       "    <tr>\n",
       "      <th>2275</th>\n",
       "      <td>0.0</td>\n",
       "    </tr>\n",
       "    <tr>\n",
       "      <th>2276</th>\n",
       "      <td>0.0</td>\n",
       "    </tr>\n",
       "    <tr>\n",
       "      <th>2277</th>\n",
       "      <td>0.0</td>\n",
       "    </tr>\n",
       "    <tr>\n",
       "      <th>2278</th>\n",
       "      <td>0.0</td>\n",
       "    </tr>\n",
       "    <tr>\n",
       "      <th>2279</th>\n",
       "      <td>0.0</td>\n",
       "    </tr>\n",
       "    <tr>\n",
       "      <th>2280</th>\n",
       "      <td>0.0</td>\n",
       "    </tr>\n",
       "    <tr>\n",
       "      <th>2281</th>\n",
       "      <td>0.0</td>\n",
       "    </tr>\n",
       "    <tr>\n",
       "      <th>2282</th>\n",
       "      <td>0.0</td>\n",
       "    </tr>\n",
       "    <tr>\n",
       "      <th>2283</th>\n",
       "      <td>0.0</td>\n",
       "    </tr>\n",
       "    <tr>\n",
       "      <th>2284</th>\n",
       "      <td>0.0</td>\n",
       "    </tr>\n",
       "    <tr>\n",
       "      <th>2285</th>\n",
       "      <td>0.0</td>\n",
       "    </tr>\n",
       "    <tr>\n",
       "      <th>2286</th>\n",
       "      <td>0.0</td>\n",
       "    </tr>\n",
       "    <tr>\n",
       "      <th>2287</th>\n",
       "      <td>0.0</td>\n",
       "    </tr>\n",
       "    <tr>\n",
       "      <th>2288</th>\n",
       "      <td>0.0</td>\n",
       "    </tr>\n",
       "    <tr>\n",
       "      <th>2289</th>\n",
       "      <td>0.0</td>\n",
       "    </tr>\n",
       "    <tr>\n",
       "      <th>2290</th>\n",
       "      <td>0.0</td>\n",
       "    </tr>\n",
       "    <tr>\n",
       "      <th>2291</th>\n",
       "      <td>0.0</td>\n",
       "    </tr>\n",
       "    <tr>\n",
       "      <th>2292</th>\n",
       "      <td>0.0</td>\n",
       "    </tr>\n",
       "    <tr>\n",
       "      <th>2293</th>\n",
       "      <td>0.0</td>\n",
       "    </tr>\n",
       "    <tr>\n",
       "      <th>2294</th>\n",
       "      <td>0.0</td>\n",
       "    </tr>\n",
       "    <tr>\n",
       "      <th>2295</th>\n",
       "      <td>0.0</td>\n",
       "    </tr>\n",
       "    <tr>\n",
       "      <th>2296</th>\n",
       "      <td>0.0</td>\n",
       "    </tr>\n",
       "    <tr>\n",
       "      <th>2297</th>\n",
       "      <td>0.0</td>\n",
       "    </tr>\n",
       "    <tr>\n",
       "      <th>2298</th>\n",
       "      <td>0.0</td>\n",
       "    </tr>\n",
       "    <tr>\n",
       "      <th>2299</th>\n",
       "      <td>0.0</td>\n",
       "    </tr>\n",
       "    <tr>\n",
       "      <th>2300</th>\n",
       "      <td>0.0</td>\n",
       "    </tr>\n",
       "    <tr>\n",
       "      <th>2301</th>\n",
       "      <td>0.0</td>\n",
       "    </tr>\n",
       "    <tr>\n",
       "      <th>2302</th>\n",
       "      <td>0.0</td>\n",
       "    </tr>\n",
       "    <tr>\n",
       "      <th>2303</th>\n",
       "      <td>0.0</td>\n",
       "    </tr>\n",
       "    <tr>\n",
       "      <th>2304</th>\n",
       "      <td>0.0</td>\n",
       "    </tr>\n",
       "  </tbody>\n",
       "</table>\n",
       "<p>1153 rows × 1 columns</p>\n",
       "</div>"
      ],
      "text/plain": [
       "        0\n",
       "1152  0.0\n",
       "1153  0.0\n",
       "1154  0.0\n",
       "1155  0.0\n",
       "1156  0.0\n",
       "1157  0.0\n",
       "1158  0.0\n",
       "1159  0.0\n",
       "1160  0.0\n",
       "1161  0.0\n",
       "1162  0.0\n",
       "1163  0.0\n",
       "1164  0.0\n",
       "1165  0.0\n",
       "1166  0.0\n",
       "1167  0.0\n",
       "1168  0.0\n",
       "1169  0.0\n",
       "1170  0.0\n",
       "1171  0.0\n",
       "1172  0.0\n",
       "1173  0.0\n",
       "1174  0.0\n",
       "1175  0.0\n",
       "1176  0.0\n",
       "1177  0.0\n",
       "1178  0.0\n",
       "1179  0.0\n",
       "1180  0.0\n",
       "1181  0.0\n",
       "...   ...\n",
       "2275  0.0\n",
       "2276  0.0\n",
       "2277  0.0\n",
       "2278  0.0\n",
       "2279  0.0\n",
       "2280  0.0\n",
       "2281  0.0\n",
       "2282  0.0\n",
       "2283  0.0\n",
       "2284  0.0\n",
       "2285  0.0\n",
       "2286  0.0\n",
       "2287  0.0\n",
       "2288  0.0\n",
       "2289  0.0\n",
       "2290  0.0\n",
       "2291  0.0\n",
       "2292  0.0\n",
       "2293  0.0\n",
       "2294  0.0\n",
       "2295  0.0\n",
       "2296  0.0\n",
       "2297  0.0\n",
       "2298  0.0\n",
       "2299  0.0\n",
       "2300  0.0\n",
       "2301  0.0\n",
       "2302  0.0\n",
       "2303  0.0\n",
       "2304  0.0\n",
       "\n",
       "[1153 rows x 1 columns]"
      ]
     },
     "execution_count": 20,
     "metadata": {},
     "output_type": "execute_result"
    }
   ],
   "source": [
    "y"
   ]
  },
  {
   "cell_type": "code",
   "execution_count": 21,
   "metadata": {},
   "outputs": [
    {
     "data": {
      "text/plain": [
       "[<matplotlib.lines.Line2D at 0x25772e9cef0>]"
      ]
     },
     "execution_count": 21,
     "metadata": {},
     "output_type": "execute_result"
    },
    {
     "data": {
      "image/png": "[encoded data removed]",
      "text/plain": [
       "<Figure size 432x288 with 1 Axes>"
      ]
     },
     "metadata": {},
     "output_type": "display_data"
    }
   ],
   "source": [
    "plt.plot(y)"
   ]
  },
  {
   "cell_type": "code",
   "execution_count": 22,
   "metadata": {},
   "outputs": [
    {
     "data": {
      "text/plain": [
       "[<matplotlib.lines.Line2D at 0x25772ed9be0>]"
      ]
     },
     "execution_count": 22,
     "metadata": {},
     "output_type": "execute_result"
    },
    {
     "data": {
      "image/png": "[encoded data removed]",
      "text/plain": [
       "<Figure size 432x288 with 1 Axes>"
      ]
     },
     "metadata": {},
     "output_type": "display_data"
    }
   ],
   "source": [
    "plt.plot(X1)"
   ]
  },
  {
   "cell_type": "code",
   "execution_count": 23,
   "metadata": {},
   "outputs": [
    {
     "data": {
      "text/plain": [
       "[<matplotlib.lines.Line2D at 0x25772f96b00>]"
      ]
     },
     "execution_count": 23,
     "metadata": {},
     "output_type": "execute_result"
    },
    {
     "data": {
      "image/png": "[encoded data removed]",
      "text/plain": [
       "<Figure size 432x288 with 1 Axes>"
      ]
     },
     "metadata": {},
     "output_type": "display_data"
    }
   ],
   "source": [
    "plt.plot(X[1152:2304])"
   ]
  },
  {
   "cell_type": "code",
   "execution_count": 24,
   "metadata": {},
   "outputs": [
    {
     "data": {
      "text/plain": [
       "[<matplotlib.lines.Line2D at 0x25772fd1908>]"
      ]
     },
     "execution_count": 24,
     "metadata": {},
     "output_type": "execute_result"
    },
    {
     "data": {
      "image/png": "[encoded data removed]",
      "text/plain": [
       "<Figure size 432x288 with 1 Axes>"
      ]
     },
     "metadata": {},
     "output_type": "display_data"
    }
   ],
   "source": [
    "plt.plot(y_np[1152:2304])"
   ]
  },
  {
   "cell_type": "code",
   "execution_count": 26,
   "metadata": {},
   "outputs": [],
   "source": [
    "X2=X.iloc[2304:2593]"
   ]
  },
  {
   "cell_type": "code",
   "execution_count": 27,
   "metadata": {},
   "outputs": [
    {
     "data": {
      "text/plain": [
       "[<matplotlib.lines.Line2D at 0x2577438d588>]"
      ]
     },
     "execution_count": 27,
     "metadata": {},
     "output_type": "execute_result"
    },
    {
     "data": {
      "image/png": "[encoded data removed]",
      "text/plain": [
       "<Figure size 432x288 with 1 Axes>"
      ]
     },
     "metadata": {},
     "output_type": "display_data"
    }
   ],
   "source": [
    "plt.plot(X2)"
   ]
  },
  {
   "cell_type": "code",
   "execution_count": 28,
   "metadata": {},
   "outputs": [
    {
     "data": {
      "text/plain": [
       "(289, 1)"
      ]
     },
     "execution_count": 28,
     "metadata": {},
     "output_type": "execute_result"
    }
   ],
   "source": [
    "X2.shape"
   ]
  },
  {
   "cell_type": "code",
   "execution_count": null,
   "metadata": {},
   "outputs": [],
   "source": []
  },
  {
   "cell_type": "code",
   "execution_count": 29,
   "metadata": {},
   "outputs": [],
   "source": [
    "y2=y_np.iloc[2304:2593]"
   ]
  },
  {
   "cell_type": "code",
   "execution_count": 30,
   "metadata": {},
   "outputs": [
    {
     "data": {
      "text/plain": [
       "[<matplotlib.lines.Line2D at 0x257743ca438>]"
      ]
     },
     "execution_count": 30,
     "metadata": {},
     "output_type": "execute_result"
    },
    {
     "data": {
      "image/png": "[encoded data removed]",
      "text/plain": [
       "<Figure size 432x288 with 1 Axes>"
      ]
     },
     "metadata": {},
     "output_type": "display_data"
    }
   ],
   "source": [
    "plt.plot(y2)"
   ]
  },
  {
   "cell_type": "code",
   "execution_count": 31,
   "metadata": {},
   "outputs": [],
   "source": [
    "from sklearn.preprocessing import MinMaxScaler\n",
    "sc = MinMaxScaler(feature_range = (0, 1))\n",
    "training_set = sc.fit_transform(X1)"
   ]
  },
  {
   "cell_type": "code",
   "execution_count": 32,
   "metadata": {},
   "outputs": [
    {
     "data": {
      "text/plain": [
       "array([[0.],\n",
       "       [0.],\n",
       "       [0.],\n",
       "       ...,\n",
       "       [0.],\n",
       "       [0.],\n",
       "       [0.]])"
      ]
     },
     "execution_count": 32,
     "metadata": {},
     "output_type": "execute_result"
    }
   ],
   "source": [
    "training_set"
   ]
  },
  {
   "cell_type": "code",
   "execution_count": 33,
   "metadata": {},
   "outputs": [],
   "source": [
    "test = sc.transform(X2)"
   ]
  },
  {
   "cell_type": "code",
   "execution_count": 34,
   "metadata": {},
   "outputs": [],
   "source": [
    "X_test = test[:-1]\n",
    "y_test = test[1:]"
   ]
  },
  {
   "cell_type": "code",
   "execution_count": 35,
   "metadata": {},
   "outputs": [],
   "source": [
    "X_train=training_set[:-1]\n",
    "y_train=training_set[1:]"
   ]
  },
  {
   "cell_type": "code",
   "execution_count": 36,
   "metadata": {},
   "outputs": [],
   "source": [
    "X_train=np.reshape(X_train,(X_train.shape[0],1,X_train.shape[1]))"
   ]
  },
  {
   "cell_type": "code",
   "execution_count": 37,
   "metadata": {},
   "outputs": [
    {
     "data": {
      "text/plain": [
       "(1152, 1, 1)"
      ]
     },
     "execution_count": 37,
     "metadata": {},
     "output_type": "execute_result"
    }
   ],
   "source": [
    "X_train.shape"
   ]
  },
  {
   "cell_type": "code",
   "execution_count": 38,
   "metadata": {},
   "outputs": [
    {
     "name": "stderr",
     "output_type": "stream",
     "text": [
      "Using TensorFlow backend.\n"
     ]
    }
   ],
   "source": [
    "from keras.models import Sequential\n",
    "from keras.layers import Dense\n",
    "from keras.layers import LSTM"
   ]
  },
  {
   "cell_type": "code",
   "execution_count": 39,
   "metadata": {},
   "outputs": [],
   "source": [
    "regressor=Sequential()"
   ]
  },
  {
   "cell_type": "code",
   "execution_count": 40,
   "metadata": {},
   "outputs": [],
   "source": [
    "#adding input layer and lstm layer\n",
    "regressor.add(LSTM(units=4, activation = \"sigmoid\" ,input_shape=(None , 1)))\n",
    "\n",
    "\n",
    "\n"
   ]
  },
  {
   "cell_type": "code",
   "execution_count": 41,
   "metadata": {},
   "outputs": [],
   "source": [
    "regressor.add(Dense(units=1))"
   ]
  },
  {
   "cell_type": "code",
   "execution_count": 42,
   "metadata": {},
   "outputs": [],
   "source": [
    "regressor.compile(optimizer =\"adam\",loss=\"mean_squared_error\")"
   ]
  },
  {
   "cell_type": "code",
   "execution_count": 43,
   "metadata": {},
   "outputs": [
    {
     "name": "stdout",
     "output_type": "stream",
     "text": [
      "Epoch 1/200\n",
      "1152/1152 [==============================] - 2s 2ms/step - loss: 0.1250\n",
      "Epoch 2/200\n",
      "1152/1152 [==============================] - 1s 911us/step - loss: 0.0973\n",
      "Epoch 3/200\n",
      "1152/1152 [==============================] - 1s 889us/step - loss: 0.0763\n",
      "Epoch 4/200\n",
      "1152/1152 [==============================] - 1s 932us/step - loss: 0.0481\n",
      "Epoch 5/200\n",
      "1152/1152 [==============================] - 1s 971us/step - loss: 0.0209\n",
      "Epoch 6/200\n",
      "1152/1152 [==============================] - 1s 870us/step - loss: 0.0059\n",
      "Epoch 7/200\n",
      "1152/1152 [==============================] - 1s 884us/step - loss: 0.0013\n",
      "Epoch 8/200\n",
      "1152/1152 [==============================] - 1s 916us/step - loss: 6.0456e-04\n",
      "Epoch 9/200\n",
      "1152/1152 [==============================] - 1s 897us/step - loss: 5.6091e-04\n",
      "Epoch 10/200\n",
      "1152/1152 [==============================] - 1s 870us/step - loss: 5.4847e-04\n",
      "Epoch 11/200\n",
      "1152/1152 [==============================] - 1s 843us/step - loss: 5.5070e-04\n",
      "Epoch 12/200\n",
      "1152/1152 [==============================] - 1s 837us/step - loss: 5.4515e-04\n",
      "Epoch 13/200\n",
      "1152/1152 [==============================] - 1s 829us/step - loss: 5.4200e-04\n",
      "Epoch 14/200\n",
      "1152/1152 [==============================] - 1s 829us/step - loss: 5.4046e-04\n",
      "Epoch 15/200\n",
      "1152/1152 [==============================] - 1s 851us/step - loss: 5.4071e-04\n",
      "Epoch 16/200\n",
      "1152/1152 [==============================] - 1s 843us/step - loss: 5.4562e-04\n",
      "Epoch 17/200\n",
      "1152/1152 [==============================] - 1s 829us/step - loss: 5.5658e-04\n",
      "Epoch 18/200\n",
      "1152/1152 [==============================] - 1s 897us/step - loss: 5.5086e-04\n",
      "Epoch 19/200\n",
      "1152/1152 [==============================] - 1s 897us/step - loss: 5.5097e-04\n",
      "Epoch 20/200\n",
      "1152/1152 [==============================] - 1s 917us/step - loss: 5.4545e-04\n",
      "Epoch 21/200\n",
      "1152/1152 [==============================] - 1s 911us/step - loss: 5.4460e-04\n",
      "Epoch 22/200\n",
      "1152/1152 [==============================] - 1s 917us/step - loss: 5.5193e-04\n",
      "Epoch 23/200\n",
      "1152/1152 [==============================] - 1s 944us/step - loss: 5.5925e-04\n",
      "Epoch 24/200\n",
      "1152/1152 [==============================] - 1s 884us/step - loss: 5.4868e-04\n",
      "Epoch 25/200\n",
      "1152/1152 [==============================] - 1s 984us/step - loss: 5.5369e-04\n",
      "Epoch 26/200\n",
      "1152/1152 [==============================] - 1s 916us/step - loss: 5.4538e-04\n",
      "Epoch 27/200\n",
      "1152/1152 [==============================] - 1s 824us/step - loss: 5.5296e-04\n",
      "Epoch 28/200\n",
      "1152/1152 [==============================] - 1s 816us/step - loss: 5.5479e-04\n",
      "Epoch 29/200\n",
      "1152/1152 [==============================] - 1s 837us/step - loss: 5.5598e-04\n",
      "Epoch 30/200\n",
      "1152/1152 [==============================] - 1s 876us/step - loss: 5.5592e-04\n",
      "Epoch 31/200\n",
      "1152/1152 [==============================] - 1s 851us/step - loss: 5.3518e-04\n",
      "Epoch 32/200\n",
      "1152/1152 [==============================] - 1s 783us/step - loss: 5.5063e-04\n",
      "Epoch 33/200\n",
      "1152/1152 [==============================] - 1s 816us/step - loss: 5.5018e-04\n",
      "Epoch 34/200\n",
      "1152/1152 [==============================] - 1s 810us/step - loss: 5.5280e-04\n",
      "Epoch 35/200\n",
      "1152/1152 [==============================] - 1s 829us/step - loss: 5.4997e-04\n",
      "Epoch 36/200\n",
      "1152/1152 [==============================] - 1s 797us/step - loss: 5.5087e-04\n",
      "Epoch 37/200\n",
      "1152/1152 [==============================] - 1s 770us/step - loss: 5.5445e-04\n",
      "Epoch 38/200\n",
      "1152/1152 [==============================] - 1s 783us/step - loss: 5.4499e-04\n",
      "Epoch 39/200\n",
      "1152/1152 [==============================] - 1s 770us/step - loss: 5.6173e-04\n",
      "Epoch 40/200\n",
      "1152/1152 [==============================] - 1s 783us/step - loss: 5.4878e-04\n",
      "Epoch 41/200\n",
      "1152/1152 [==============================] - 1s 783us/step - loss: 5.5004e-04\n",
      "Epoch 42/200\n",
      "1152/1152 [==============================] - 1s 797us/step - loss: 5.4171e-04\n",
      "Epoch 43/200\n",
      "1152/1152 [==============================] - 1s 857us/step - loss: 5.5894e-04\n",
      "Epoch 44/200\n",
      "1152/1152 [==============================] - 1s 981us/step - loss: 5.6294e-04\n",
      "Epoch 45/200\n",
      "1152/1152 [==============================] - 1s 897us/step - loss: 5.4599e-04\n",
      "Epoch 46/200\n",
      "1152/1152 [==============================] - 1s 870us/step - loss: 5.4792e-04\n",
      "Epoch 47/200\n",
      "1152/1152 [==============================] - 1s 870us/step - loss: 5.4384e-04\n",
      "Epoch 48/200\n",
      "1152/1152 [==============================] - 1s 857us/step - loss: 5.5417e-04\n",
      "Epoch 49/200\n",
      "1152/1152 [==============================] - 1s 857us/step - loss: 5.4643e-04\n",
      "Epoch 50/200\n",
      "1152/1152 [==============================] - 1s 843us/step - loss: 5.5750e-04\n",
      "Epoch 51/200\n",
      "1152/1152 [==============================] - 1s 924us/step - loss: 5.4326e-04\n",
      "Epoch 52/200\n",
      "1152/1152 [==============================] - 1s 889us/step - loss: 5.4978e-04\n",
      "Epoch 53/200\n",
      "1152/1152 [==============================] - 1s 930us/step - loss: 5.4325e-04\n",
      "Epoch 54/200\n",
      "1152/1152 [==============================] - 1s 911us/step - loss: 5.4973e-04\n",
      "Epoch 55/200\n",
      "1152/1152 [==============================] - 1s 916us/step - loss: 5.4363e-04\n",
      "Epoch 56/200\n",
      "1152/1152 [==============================] - 1s 897us/step - loss: 5.4619e-04\n",
      "Epoch 57/200\n",
      "1152/1152 [==============================] - 1s 971us/step - loss: 5.4652e-04\n",
      "Epoch 58/200\n",
      "1152/1152 [==============================] - 1s 944us/step - loss: 5.4402e-04\n",
      "Epoch 59/200\n",
      "1152/1152 [==============================] - 1s 971us/step - loss: 5.4910e-04\n",
      "Epoch 60/200\n",
      "1152/1152 [==============================] - 1s 944us/step - loss: 5.4197e-04\n",
      "Epoch 61/200\n",
      "1152/1152 [==============================] - 1s 911us/step - loss: 5.4341e-04\n",
      "Epoch 62/200\n",
      "1152/1152 [==============================] - 1s 917us/step - loss: 5.5374e-04\n",
      "Epoch 63/200\n",
      "1152/1152 [==============================] - 1s 884us/step - loss: 5.5224e-04\n",
      "Epoch 64/200\n",
      "1152/1152 [==============================] - 1s 897us/step - loss: 5.4809e-04\n",
      "Epoch 65/200\n",
      "1152/1152 [==============================] - 1s 957us/step - loss: 5.5844e-04\n",
      "Epoch 66/200\n",
      "1152/1152 [==============================] - 1s 944us/step - loss: 5.5180e-04\n",
      "Epoch 67/200\n",
      "1152/1152 [==============================] - 1s 971us/step - loss: 5.5421e-04\n",
      "Epoch 68/200\n",
      "1152/1152 [==============================] - 1s 916us/step - loss: 5.4748e-04\n",
      "Epoch 69/200\n",
      "1152/1152 [==============================] - 1s 897us/step - loss: 5.4851e-04\n",
      "Epoch 70/200\n",
      "1152/1152 [==============================] - 1s 903us/step - loss: 5.5055e-04\n",
      "Epoch 71/200\n",
      "1152/1152 [==============================] - 1s 957us/step - loss: 5.4439e-04\n",
      "Epoch 72/200\n",
      "1152/1152 [==============================] - 1s 924us/step - loss: 5.6618e-04\n",
      "Epoch 73/200\n",
      "1152/1152 [==============================] - 1s 957us/step - loss: 5.4521e-04\n",
      "Epoch 74/200\n",
      "1152/1152 [==============================] - 1s 971us/step - loss: 5.5382e-04\n",
      "Epoch 75/200\n",
      "1152/1152 [==============================] - 1s 903us/step - loss: 5.5000e-04\n",
      "Epoch 76/200\n",
      "1152/1152 [==============================] - 1s 911us/step - loss: 5.5045e-04\n",
      "Epoch 77/200\n",
      "1152/1152 [==============================] - 1s 870us/step - loss: 5.4466e-04\n",
      "Epoch 78/200\n",
      "1152/1152 [==============================] - 1s 916us/step - loss: 5.4349e-04\n",
      "Epoch 79/200\n",
      "1152/1152 [==============================] - 1s 897us/step - loss: 5.5554e-04\n",
      "Epoch 80/200\n",
      "1152/1152 [==============================] - 1s 870us/step - loss: 5.4969e-04\n",
      "Epoch 81/200\n",
      "1152/1152 [==============================] - 1s 930us/step - loss: 5.5165e-04\n",
      "Epoch 82/200\n",
      "1152/1152 [==============================] - 1s 857us/step - loss: 5.4021e-04\n",
      "Epoch 83/200\n",
      "1152/1152 [==============================] - 1s 857us/step - loss: 5.4343e-04\n",
      "Epoch 84/200\n",
      "1152/1152 [==============================] - 1s 911us/step - loss: 5.5241e-04\n",
      "Epoch 85/200\n",
      "1152/1152 [==============================] - 1s 884us/step - loss: 5.4202e-04\n",
      "Epoch 86/200\n",
      "1152/1152 [==============================] - 1s 884us/step - loss: 5.4412e-04\n",
      "Epoch 87/200\n",
      "1152/1152 [==============================] - 1s 884us/step - loss: 5.3876e-04\n",
      "Epoch 88/200\n",
      "1152/1152 [==============================] - 1s 857us/step - loss: 5.5098e-04\n",
      "Epoch 89/200\n",
      "1152/1152 [==============================] - 1s 865us/step - loss: 5.5354e-04\n",
      "Epoch 90/200\n",
      "1152/1152 [==============================] - 1s 889us/step - loss: 5.6483e-04\n",
      "Epoch 91/200\n"
     ]
    },
    {
     "name": "stdout",
     "output_type": "stream",
     "text": [
      "1152/1152 [==============================] - 1s 897us/step - loss: 5.5600e-04\n",
      "Epoch 92/200\n",
      "1152/1152 [==============================] - 1s 870us/step - loss: 5.5076e-04\n",
      "Epoch 93/200\n",
      "1152/1152 [==============================] - 1s 843us/step - loss: 5.4847e-04\n",
      "Epoch 94/200\n",
      "1152/1152 [==============================] - 1s 837us/step - loss: 5.4696e-04\n",
      "Epoch 95/200\n",
      "1152/1152 [==============================] - 1s 870us/step - loss: 5.4724e-04\n",
      "Epoch 96/200\n",
      "1152/1152 [==============================] - 1s 916us/step - loss: 5.4524e-04\n",
      "Epoch 97/200\n",
      "1152/1152 [==============================] - 1s 897us/step - loss: 5.4955e-04\n",
      "Epoch 98/200\n",
      "1152/1152 [==============================] - 1s 843us/step - loss: 5.4875e-04\n",
      "Epoch 99/200\n",
      "1152/1152 [==============================] - 1s 829us/step - loss: 5.4232e-04\n",
      "Epoch 100/200\n",
      "1152/1152 [==============================] - 1s 897us/step - loss: 5.6004e-04\n",
      "Epoch 101/200\n",
      "1152/1152 [==============================] - 1s 829us/step - loss: 5.4611e-04\n",
      "Epoch 102/200\n",
      "1152/1152 [==============================] - 1s 851us/step - loss: 5.4416e-04\n",
      "Epoch 103/200\n",
      "1152/1152 [==============================] - 1s 870us/step - loss: 5.4216e-04\n",
      "Epoch 104/200\n",
      "1152/1152 [==============================] - 1s 870us/step - loss: 5.4641e-04\n",
      "Epoch 105/200\n",
      "1152/1152 [==============================] - 1s 889us/step - loss: 5.4816e-04\n",
      "Epoch 106/200\n",
      "1152/1152 [==============================] - 1s 884us/step - loss: 5.4687e-04\n",
      "Epoch 107/200\n",
      "1152/1152 [==============================] - 1s 824us/step - loss: 5.4194e-04\n",
      "Epoch 108/200\n",
      "1152/1152 [==============================] - 1s 829us/step - loss: 5.4231e-04\n",
      "Epoch 109/200\n",
      "1152/1152 [==============================] - 1s 870us/step - loss: 5.4895e-04\n",
      "Epoch 110/200\n",
      "1152/1152 [==============================] - 1s 870us/step - loss: 5.5005e-04\n",
      "Epoch 111/200\n",
      "1152/1152 [==============================] - 1s 870us/step - loss: 5.4958e-04\n",
      "Epoch 112/200\n",
      "1152/1152 [==============================] - 1s 837us/step - loss: 5.4618e-04\n",
      "Epoch 113/200\n",
      "1152/1152 [==============================] - 1s 837us/step - loss: 5.4976e-04\n",
      "Epoch 114/200\n",
      "1152/1152 [==============================] - 1s 857us/step - loss: 5.4385e-04\n",
      "Epoch 115/200\n",
      "1152/1152 [==============================] - 1s 944us/step - loss: 5.4407e-04\n",
      "Epoch 116/200\n",
      "1152/1152 [==============================] - 1s 843us/step - loss: 5.4980e-04\n",
      "Epoch 117/200\n",
      "1152/1152 [==============================] - 1s 824us/step - loss: 5.5271e-04\n",
      "Epoch 118/200\n",
      "1152/1152 [==============================] - 1s 816us/step - loss: 5.5184e-04\n",
      "Epoch 119/200\n",
      "1152/1152 [==============================] - 1s 824us/step - loss: 5.4948e-04\n",
      "Epoch 120/200\n",
      "1152/1152 [==============================] - 1s 829us/step - loss: 5.4521e-04\n",
      "Epoch 121/200\n",
      "1152/1152 [==============================] - 1s 1ms/step - loss: 5.4204e-04\n",
      "Epoch 122/200\n",
      "1152/1152 [==============================] - 1s 965us/step - loss: 5.4910e-04\n",
      "Epoch 123/200\n",
      "1152/1152 [==============================] - 1s 824us/step - loss: 5.4761e-04\n",
      "Epoch 124/200\n",
      "1152/1152 [==============================] - 1s 870us/step - loss: 5.5160e-04\n",
      "Epoch 125/200\n",
      "1152/1152 [==============================] - 1s 783us/step - loss: 5.4993e-04\n",
      "Epoch 126/200\n",
      "1152/1152 [==============================] - 1s 843us/step - loss: 5.5235e-04\n",
      "Epoch 127/200\n",
      "1152/1152 [==============================] - 1s 824us/step - loss: 5.4364e-04\n",
      "Epoch 128/200\n",
      "1152/1152 [==============================] - 1s 816us/step - loss: 5.5461e-04\n",
      "Epoch 129/200\n",
      "1152/1152 [==============================] - 1s 797us/step - loss: 5.4999e-04\n",
      "Epoch 130/200\n",
      "1152/1152 [==============================] - 1s 783us/step - loss: 5.4464e-04\n",
      "Epoch 131/200\n",
      "1152/1152 [==============================] - 1s 857us/step - loss: 5.5422e-04\n",
      "Epoch 132/200\n",
      "1152/1152 [==============================] - 1s 783us/step - loss: 5.4349e-04\n",
      "Epoch 133/200\n",
      "1152/1152 [==============================] - 1s 810us/step - loss: 5.5866e-04\n",
      "Epoch 134/200\n",
      "1152/1152 [==============================] - 1s 802us/step - loss: 5.4268e-04\n",
      "Epoch 135/200\n",
      "1152/1152 [==============================] - 1s 837us/step - loss: 5.5203e-04\n",
      "Epoch 136/200\n",
      "1152/1152 [==============================] - 1s 829us/step - loss: 5.4738e-04\n",
      "Epoch 137/200\n",
      "1152/1152 [==============================] - 1s 783us/step - loss: 5.4970e-04\n",
      "Epoch 138/200\n",
      "1152/1152 [==============================] - 1s 783us/step - loss: 5.5586e-04\n",
      "Epoch 139/200\n",
      "1152/1152 [==============================] - 1s 797us/step - loss: 5.4760e-04\n",
      "Epoch 140/200\n",
      "1152/1152 [==============================] - 1s 990us/step - loss: 5.5113e-04\n",
      "Epoch 141/200\n",
      "1152/1152 [==============================] - 1s 897us/step - loss: 5.3849e-04\n",
      "Epoch 142/200\n",
      "1152/1152 [==============================] - 1s 897us/step - loss: 5.5445e-04\n",
      "Epoch 143/200\n",
      "1152/1152 [==============================] - 1s 884us/step - loss: 5.4444e-04\n",
      "Epoch 144/200\n",
      "1152/1152 [==============================] - 1s 930us/step - loss: 5.4478e-04\n",
      "Epoch 145/200\n",
      "1152/1152 [==============================] - 1s 944us/step - loss: 5.5702e-04\n",
      "Epoch 146/200\n",
      "1152/1152 [==============================] - 1s 944us/step - loss: 5.4093e-04\n",
      "Epoch 147/200\n",
      "1152/1152 [==============================] - 1s 957us/step - loss: 5.4302e-04\n",
      "Epoch 148/200\n",
      "1152/1152 [==============================] - 1s 1ms/step - loss: 5.5537e-04\n",
      "Epoch 149/200\n",
      "1152/1152 [==============================] - 1s 976us/step - loss: 5.4875e-04\n",
      "Epoch 150/200\n",
      "1152/1152 [==============================] - 1s 988us/step - loss: 5.5364e-04\n",
      "Epoch 151/200\n",
      "1152/1152 [==============================] - 1s 964us/step - loss: 5.4901e-04\n",
      "Epoch 152/200\n",
      "1152/1152 [==============================] - 1s 905us/step - loss: 5.4923e-04\n",
      "Epoch 153/200\n",
      "1152/1152 [==============================] - 2s 1ms/step - loss: 5.4734e-04\n",
      "Epoch 154/200\n",
      "1152/1152 [==============================] - 1s 1ms/step - loss: 5.5487e-04\n",
      "Epoch 155/200\n",
      "1152/1152 [==============================] - 1s 1ms/step - loss: 5.4544e-04\n",
      "Epoch 156/200\n",
      "1152/1152 [==============================] - 1s 1ms/step - loss: 5.5425e-04\n",
      "Epoch 157/200\n",
      "1152/1152 [==============================] - 1s 1ms/step - loss: 5.4489e-04\n",
      "Epoch 158/200\n",
      "1152/1152 [==============================] - 1s 1ms/step - loss: 5.4465e-04\n",
      "Epoch 159/200\n",
      "1152/1152 [==============================] - 1s 1ms/step - loss: 5.4370e-04\n",
      "Epoch 160/200\n",
      "1152/1152 [==============================] - 1s 1ms/step - loss: 5.4906e-04\n",
      "Epoch 161/200\n",
      "1152/1152 [==============================] - 1s 868us/step - loss: 5.4324e-04\n",
      "Epoch 162/200\n",
      "1152/1152 [==============================] - 1s 888us/step - loss: 5.4906e-04\n",
      "Epoch 163/200\n",
      "1152/1152 [==============================] - 1s 859us/step - loss: 5.4218e-04\n",
      "Epoch 164/200\n",
      "1152/1152 [==============================] - 1s 897us/step - loss: 5.5234e-04\n",
      "Epoch 165/200\n",
      "1152/1152 [==============================] - 1s 886us/step - loss: 5.4755e-04\n",
      "Epoch 166/200\n",
      "1152/1152 [==============================] - 1s 849us/step - loss: 5.5228e-04\n",
      "Epoch 167/200\n",
      "1152/1152 [==============================] - 1s 844us/step - loss: 5.4200e-04\n",
      "Epoch 168/200\n",
      "1152/1152 [==============================] - 1s 839us/step - loss: 5.4683e-04\n",
      "Epoch 169/200\n",
      "1152/1152 [==============================] - 1s 886us/step - loss: 5.5049e-04\n",
      "Epoch 170/200\n",
      "1152/1152 [==============================] - 1s 955us/step - loss: 5.4541e-04\n",
      "Epoch 171/200\n",
      "1152/1152 [==============================] - 1s 914us/step - loss: 5.4158e-04\n",
      "Epoch 172/200\n",
      "1152/1152 [==============================] - 1s 1ms/step - loss: 5.4543e-04\n",
      "Epoch 173/200\n",
      "1152/1152 [==============================] - 1s 821us/step - loss: 5.4778e-04\n",
      "Epoch 174/200\n",
      "1152/1152 [==============================] - 1s 811us/step - loss: 5.5664e-04\n",
      "Epoch 175/200\n",
      "1152/1152 [==============================] - 1s 804us/step - loss: 5.5006e-04\n",
      "Epoch 176/200\n",
      "1152/1152 [==============================] - 1s 846us/step - loss: 5.4699e-04\n",
      "Epoch 177/200\n",
      "1152/1152 [==============================] - 1s 902us/step - loss: 5.4339e-04\n",
      "Epoch 178/200\n",
      "1152/1152 [==============================] - 1s 817us/step - loss: 5.4982e-04\n",
      "Epoch 179/200\n",
      "1152/1152 [==============================] - 1s 824us/step - loss: 5.5139e-04\n",
      "Epoch 180/200\n"
     ]
    },
    {
     "name": "stdout",
     "output_type": "stream",
     "text": [
      "1152/1152 [==============================] - 1s 813us/step - loss: 5.4711e-04\n",
      "Epoch 181/200\n",
      "1152/1152 [==============================] - 1s 801us/step - loss: 5.5544e-04\n",
      "Epoch 182/200\n",
      "1152/1152 [==============================] - 1s 814us/step - loss: 5.4540e-04\n",
      "Epoch 183/200\n",
      "1152/1152 [==============================] - 1s 807us/step - loss: 5.5098e-04\n",
      "Epoch 184/200\n",
      "1152/1152 [==============================] - 1s 955us/step - loss: 5.4810e-04\n",
      "Epoch 185/200\n",
      "1152/1152 [==============================] - 1s 816us/step - loss: 5.4628e-04\n",
      "Epoch 186/200\n",
      "1152/1152 [==============================] - 1s 810us/step - loss: 5.4733e-04\n",
      "Epoch 187/200\n",
      "1152/1152 [==============================] - 1s 804us/step - loss: 5.5192e-04\n",
      "Epoch 188/200\n",
      "1152/1152 [==============================] - 1s 936us/step - loss: 5.4432e-04\n",
      "Epoch 189/200\n",
      "1152/1152 [==============================] - 1s 874us/step - loss: 5.4752e-04\n",
      "Epoch 190/200\n",
      "1152/1152 [==============================] - 1s 808us/step - loss: 5.5292e-04\n",
      "Epoch 191/200\n",
      "1152/1152 [==============================] - 1s 816us/step - loss: 5.4405e-04\n",
      "Epoch 192/200\n",
      "1152/1152 [==============================] - 1s 842us/step - loss: 5.5939e-04\n",
      "Epoch 193/200\n",
      "1152/1152 [==============================] - 1s 804us/step - loss: 5.4670e-04\n",
      "Epoch 194/200\n",
      "1152/1152 [==============================] - 1s 833us/step - loss: 5.4699e-04\n",
      "Epoch 195/200\n",
      "1152/1152 [==============================] - 1s 825us/step - loss: 5.5135e-04\n",
      "Epoch 196/200\n",
      "1152/1152 [==============================] - 1s 804us/step - loss: 5.4049e-04\n",
      "Epoch 197/200\n",
      "1152/1152 [==============================] - 1s 796us/step - loss: 5.5460e-04\n",
      "Epoch 198/200\n",
      "1152/1152 [==============================] - 1s 810us/step - loss: 5.4552e-04\n",
      "Epoch 199/200\n",
      "1152/1152 [==============================] - 1s 891us/step - loss: 5.4562e-04\n",
      "Epoch 200/200\n",
      "1152/1152 [==============================] - 1s 807us/step - loss: 5.4242e-04\n"
     ]
    },
    {
     "data": {
      "text/plain": [
       "<keras.callbacks.History at 0x2577fe0d5f8>"
      ]
     },
     "execution_count": 43,
     "metadata": {},
     "output_type": "execute_result"
    }
   ],
   "source": [
    "regressor.fit(X_train,y_train,batch_size=2,epochs = 200)"
   ]
  },
  {
   "cell_type": "code",
   "execution_count": 44,
   "metadata": {},
   "outputs": [],
   "source": [
    "X_test=np.reshape(X_test,(X_test.shape[0],1,X_test.shape[1]))"
   ]
  },
  {
   "cell_type": "code",
   "execution_count": 47,
   "metadata": {},
   "outputs": [],
   "source": [
    "y_pred = regressor.predict(X_test)"
   ]
  },
  {
   "cell_type": "code",
   "execution_count": 48,
   "metadata": {},
   "outputs": [],
   "source": [
    "y_pred =sc.inverse_transform(y_pred)"
   ]
  },
  {
   "cell_type": "code",
   "execution_count": 49,
   "metadata": {},
   "outputs": [
    {
     "data": {
      "text/plain": [
       "array([[  3.4533026],\n",
       "       [  3.4533026],\n",
       "       [  3.4533026],\n",
       "       [  3.4533026],\n",
       "       [  3.4533026],\n",
       "       [  3.4533026],\n",
       "       [  3.4533026],\n",
       "       [  3.4533026],\n",
       "       [  5.595424 ],\n",
       "       [  5.4006314],\n",
       "       [  5.4006314],\n",
       "       [  5.984999 ],\n",
       "       [  5.595424 ],\n",
       "       [  5.790227 ],\n",
       "       [  5.984999 ],\n",
       "       [  5.790227 ],\n",
       "       [  5.984999 ],\n",
       "       [  5.4006314],\n",
       "       [  6.3746247],\n",
       "       [  5.790227 ],\n",
       "       [  5.790227 ],\n",
       "       [  5.790227 ],\n",
       "       [  5.4006314],\n",
       "       [  5.4006314],\n",
       "       [  5.4006314],\n",
       "       [  5.4006314],\n",
       "       [  5.4006314],\n",
       "       [  5.4006314],\n",
       "       [  5.4006314],\n",
       "       [  5.4006314],\n",
       "       [  5.4006314],\n",
       "       [  5.4006314],\n",
       "       [  5.4006314],\n",
       "       [  6.179822 ],\n",
       "       [  5.790227 ],\n",
       "       [  5.4006314],\n",
       "       [  5.4006314],\n",
       "       [  5.4006314],\n",
       "       [  5.4006314],\n",
       "       [  5.4006314],\n",
       "       [  5.4006314],\n",
       "       [  5.4006314],\n",
       "       [  5.4006314],\n",
       "       [  5.4006314],\n",
       "       [  5.790227 ],\n",
       "       [  5.4006314],\n",
       "       [  5.4006314],\n",
       "       [  5.4006314],\n",
       "       [  5.4006314],\n",
       "       [  5.595424 ],\n",
       "       [  5.790227 ],\n",
       "       [  5.4006314],\n",
       "       [  5.984999 ],\n",
       "       [  5.4006314],\n",
       "       [  5.4006314],\n",
       "       [  5.4006314],\n",
       "       [  5.4006314],\n",
       "       [  5.595424 ],\n",
       "       [  5.790227 ],\n",
       "       [  5.4006314],\n",
       "       [  5.4006314],\n",
       "       [  5.4006314],\n",
       "       [  5.0111275],\n",
       "       [  5.4006314],\n",
       "       [  5.4006314],\n",
       "       [  5.4006314],\n",
       "       [  5.4006314],\n",
       "       [  5.984999 ],\n",
       "       [  5.790227 ],\n",
       "       [  5.595424 ],\n",
       "       [  5.4006314],\n",
       "       [  5.4006314],\n",
       "       [  5.4006314],\n",
       "       [  5.4006314],\n",
       "       [  5.4006314],\n",
       "       [  5.4006314],\n",
       "       [  5.790227 ],\n",
       "       [  5.4006314],\n",
       "       [  5.4006314],\n",
       "       [  5.595424 ],\n",
       "       [  8.517949 ],\n",
       "       [ 12.027084 ],\n",
       "       [ 18.661652 ],\n",
       "       [ 25.304274 ],\n",
       "       [ 31.17205  ],\n",
       "       [ 39.00527  ],\n",
       "       [ 45.867973 ],\n",
       "       [ 52.73875  ],\n",
       "       [ 60.797318 ],\n",
       "       [ 70.04813  ],\n",
       "       [ 79.11508  ],\n",
       "       [ 89.182205 ],\n",
       "       [ 97.87948  ],\n",
       "       [104.01351  ],\n",
       "       [112.530594 ],\n",
       "       [121.85092  ],\n",
       "       [130.58638  ],\n",
       "       [142.71211  ],\n",
       "       [155.25305  ],\n",
       "       [166.41467  ],\n",
       "       [179.78506  ],\n",
       "       [191.5726   ],\n",
       "       [204.57245  ],\n",
       "       [215.58246  ],\n",
       "       [230.00821  ],\n",
       "       [243.4437   ],\n",
       "       [257.89258  ],\n",
       "       [273.75705  ],\n",
       "       [285.2094   ],\n",
       "       [300.28412  ],\n",
       "       [314.15753  ],\n",
       "       [328.63724  ],\n",
       "       [341.91196  ],\n",
       "       [361.4223   ],\n",
       "       [379.92496  ],\n",
       "       [388.37048  ],\n",
       "       [394.60342  ],\n",
       "       [389.77805  ],\n",
       "       [417.11575  ],\n",
       "       [434.7951   ],\n",
       "       [445.23764  ],\n",
       "       [456.68002  ],\n",
       "       [469.1209   ],\n",
       "       [477.14407  ],\n",
       "       [486.96902  ],\n",
       "       [494.3853   ],\n",
       "       [495.7881   ],\n",
       "       [510.41223  ],\n",
       "       [522.82526  ],\n",
       "       [533.6309   ],\n",
       "       [533.83093  ],\n",
       "       [547.2303   ],\n",
       "       [551.02856  ],\n",
       "       [560.821    ],\n",
       "       [568.01245  ],\n",
       "       [575.00183  ],\n",
       "       [576.79877  ],\n",
       "       [581.5897   ],\n",
       "       [585.78094  ],\n",
       "       [589.7718   ],\n",
       "       [589.3728   ],\n",
       "       [591.56744  ],\n",
       "       [593.1634   ],\n",
       "       [590.76935  ],\n",
       "       [595.55725  ],\n",
       "       [598.948    ],\n",
       "       [594.75934  ],\n",
       "       [594.75934  ],\n",
       "       [597.5519   ],\n",
       "       [600.7428   ],\n",
       "       [593.5624   ],\n",
       "       [589.3728   ],\n",
       "       [583.1865   ],\n",
       "       [575.00183  ],\n",
       "       [567.81274  ],\n",
       "       [575.2016   ],\n",
       "       [575.80054  ],\n",
       "       [566.8141   ],\n",
       "       [543.83124  ],\n",
       "       [535.6314   ],\n",
       "       [538.8317   ],\n",
       "       [540.63165  ],\n",
       "       [528.2288   ],\n",
       "       [512.4148   ],\n",
       "       [503.4019   ],\n",
       "       [488.77322  ],\n",
       "       [477.9463   ],\n",
       "       [469.72275  ],\n",
       "       [458.48633  ],\n",
       "       [456.68002  ],\n",
       "       [433.79086  ],\n",
       "       [426.35825  ],\n",
       "       [412.29263  ],\n",
       "       [399.62946  ],\n",
       "       [389.57693  ],\n",
       "       [376.3051   ],\n",
       "       [366.24936  ],\n",
       "       [346.73926  ],\n",
       "       [332.45862  ],\n",
       "       [328.4361   ],\n",
       "       [311.34232  ],\n",
       "       [294.0525   ],\n",
       "       [277.17215  ],\n",
       "       [269.53894  ],\n",
       "       [255.48376  ],\n",
       "       [242.64131  ],\n",
       "       [227.20212  ],\n",
       "       [215.58246  ],\n",
       "       [203.97214  ],\n",
       "       [187.97514  ],\n",
       "       [174.99371  ],\n",
       "       [163.02498  ],\n",
       "       [150.87169  ],\n",
       "       [138.13805  ],\n",
       "       [127.011635 ],\n",
       "       [115.30567  ],\n",
       "       [106.38941  ],\n",
       "       [ 95.901886 ],\n",
       "       [ 85.627365 ],\n",
       "       [ 75.95994  ],\n",
       "       [ 62.174187 ],\n",
       "       [ 49.00793  ],\n",
       "       [ 43.12191  ],\n",
       "       [ 38.417385 ],\n",
       "       [ 33.129314 ],\n",
       "       [ 27.063946 ],\n",
       "       [ 22.568165 ],\n",
       "       [ 17.295033 ],\n",
       "       [ 12.612119 ],\n",
       "       [  8.517949 ],\n",
       "       [  5.595424 ],\n",
       "       [  5.4006314],\n",
       "       [  5.4006314],\n",
       "       [  5.4006314],\n",
       "       [  5.4006314],\n",
       "       [  5.4006314],\n",
       "       [  5.0111275],\n",
       "       [  5.0111275],\n",
       "       [  5.0111275],\n",
       "       [  4.8163652],\n",
       "       [  4.8163652],\n",
       "       [  5.4006314],\n",
       "       [  5.4006314],\n",
       "       [  5.4006314],\n",
       "       [  5.4006314],\n",
       "       [  5.2058997],\n",
       "       [  5.0111275],\n",
       "       [  5.4006314],\n",
       "       [  5.4006314],\n",
       "       [  5.2058997],\n",
       "       [  5.0111275],\n",
       "       [  5.4006314],\n",
       "       [  4.8163652],\n",
       "       [  5.4006314],\n",
       "       [  5.4006314],\n",
       "       [  4.6216435],\n",
       "       [  5.2058997],\n",
       "       [  5.4006314],\n",
       "       [  5.4006314],\n",
       "       [  5.4006314],\n",
       "       [  5.4006314],\n",
       "       [  4.4268813],\n",
       "       [  5.0111275],\n",
       "       [  4.6216435],\n",
       "       [  5.4006314],\n",
       "       [  5.4006314],\n",
       "       [  5.2058997],\n",
       "       [  4.4268813],\n",
       "       [  5.4006314],\n",
       "       [  5.4006314],\n",
       "       [  5.2058997],\n",
       "       [  5.0111275],\n",
       "       [  4.4268813],\n",
       "       [  4.4268813],\n",
       "       [  4.4268813],\n",
       "       [  5.0111275],\n",
       "       [  4.4268813],\n",
       "       [  4.4268813],\n",
       "       [  4.4268813],\n",
       "       [  5.4006314],\n",
       "       [  5.2058997],\n",
       "       [  4.8163652],\n",
       "       [  4.4268813],\n",
       "       [  5.0111275],\n",
       "       [  5.2058997],\n",
       "       [  4.8163652],\n",
       "       [  4.8163652],\n",
       "       [  4.8163652],\n",
       "       [  5.2058997],\n",
       "       [  4.8163652],\n",
       "       [  4.4268813],\n",
       "       [  4.4268813],\n",
       "       [  4.4268813],\n",
       "       [  4.4268813],\n",
       "       [  4.4268813],\n",
       "       [  4.4268813],\n",
       "       [  4.8163652],\n",
       "       [  5.4006314],\n",
       "       [  5.4006314],\n",
       "       [  5.4006314],\n",
       "       [  5.4006314],\n",
       "       [  5.4006314],\n",
       "       [  5.4006314],\n",
       "       [  5.4006314],\n",
       "       [  3.8426652],\n",
       "       [  3.4533026],\n",
       "       [  3.4533026],\n",
       "       [  3.4533026]], dtype=float32)"
      ]
     },
     "execution_count": 49,
     "metadata": {},
     "output_type": "execute_result"
    }
   ],
   "source": [
    "y_pred"
   ]
  },
  {
   "cell_type": "code",
   "execution_count": 55,
   "metadata": {},
   "outputs": [],
   "source": [
    "y_test=sc.inverse_transform(y_test)"
   ]
  },
  {
   "cell_type": "code",
   "execution_count": 56,
   "metadata": {},
   "outputs": [
    {
     "data": {
      "text/plain": [
       "array([[0.000e+00],\n",
       "       [0.000e+00],\n",
       "       [0.000e+00],\n",
       "       [0.000e+00],\n",
       "       [0.000e+00],\n",
       "       [0.000e+00],\n",
       "       [0.000e+00],\n",
       "       [2.200e+00],\n",
       "       [2.000e+00],\n",
       "       [2.000e+00],\n",
       "       [2.600e+00],\n",
       "       [2.200e+00],\n",
       "       [2.400e+00],\n",
       "       [2.600e+00],\n",
       "       [2.400e+00],\n",
       "       [2.600e+00],\n",
       "       [2.000e+00],\n",
       "       [3.000e+00],\n",
       "       [2.400e+00],\n",
       "       [2.400e+00],\n",
       "       [2.400e+00],\n",
       "       [2.000e+00],\n",
       "       [2.000e+00],\n",
       "       [2.000e+00],\n",
       "       [2.000e+00],\n",
       "       [2.000e+00],\n",
       "       [2.000e+00],\n",
       "       [2.000e+00],\n",
       "       [2.000e+00],\n",
       "       [2.000e+00],\n",
       "       [2.000e+00],\n",
       "       [2.000e+00],\n",
       "       [2.800e+00],\n",
       "       [2.400e+00],\n",
       "       [2.000e+00],\n",
       "       [2.000e+00],\n",
       "       [2.000e+00],\n",
       "       [2.000e+00],\n",
       "       [2.000e+00],\n",
       "       [2.000e+00],\n",
       "       [2.000e+00],\n",
       "       [2.000e+00],\n",
       "       [2.000e+00],\n",
       "       [2.400e+00],\n",
       "       [2.000e+00],\n",
       "       [2.000e+00],\n",
       "       [2.000e+00],\n",
       "       [2.000e+00],\n",
       "       [2.200e+00],\n",
       "       [2.400e+00],\n",
       "       [2.000e+00],\n",
       "       [2.600e+00],\n",
       "       [2.000e+00],\n",
       "       [2.000e+00],\n",
       "       [2.000e+00],\n",
       "       [2.000e+00],\n",
       "       [2.200e+00],\n",
       "       [2.400e+00],\n",
       "       [2.000e+00],\n",
       "       [2.000e+00],\n",
       "       [2.000e+00],\n",
       "       [1.600e+00],\n",
       "       [2.000e+00],\n",
       "       [2.000e+00],\n",
       "       [2.000e+00],\n",
       "       [2.000e+00],\n",
       "       [2.600e+00],\n",
       "       [2.400e+00],\n",
       "       [2.200e+00],\n",
       "       [2.000e+00],\n",
       "       [2.000e+00],\n",
       "       [2.000e+00],\n",
       "       [2.000e+00],\n",
       "       [2.000e+00],\n",
       "       [2.000e+00],\n",
       "       [2.400e+00],\n",
       "       [2.000e+00],\n",
       "       [2.000e+00],\n",
       "       [2.200e+00],\n",
       "       [5.200e+00],\n",
       "       [8.800e+00],\n",
       "       [1.560e+01],\n",
       "       [2.240e+01],\n",
       "       [2.840e+01],\n",
       "       [3.640e+01],\n",
       "       [4.340e+01],\n",
       "       [5.040e+01],\n",
       "       [5.860e+01],\n",
       "       [6.800e+01],\n",
       "       [7.720e+01],\n",
       "       [8.740e+01],\n",
       "       [9.620e+01],\n",
       "       [1.024e+02],\n",
       "       [1.110e+02],\n",
       "       [1.204e+02],\n",
       "       [1.292e+02],\n",
       "       [1.414e+02],\n",
       "       [1.540e+02],\n",
       "       [1.652e+02],\n",
       "       [1.786e+02],\n",
       "       [1.904e+02],\n",
       "       [2.034e+02],\n",
       "       [2.144e+02],\n",
       "       [2.288e+02],\n",
       "       [2.422e+02],\n",
       "       [2.566e+02],\n",
       "       [2.724e+02],\n",
       "       [2.838e+02],\n",
       "       [2.988e+02],\n",
       "       [3.126e+02],\n",
       "       [3.270e+02],\n",
       "       [3.402e+02],\n",
       "       [3.596e+02],\n",
       "       [3.780e+02],\n",
       "       [3.864e+02],\n",
       "       [3.926e+02],\n",
       "       [3.878e+02],\n",
       "       [4.150e+02],\n",
       "       [4.326e+02],\n",
       "       [4.430e+02],\n",
       "       [4.544e+02],\n",
       "       [4.668e+02],\n",
       "       [4.748e+02],\n",
       "       [4.846e+02],\n",
       "       [4.920e+02],\n",
       "       [4.934e+02],\n",
       "       [5.080e+02],\n",
       "       [5.204e+02],\n",
       "       [5.312e+02],\n",
       "       [5.314e+02],\n",
       "       [5.448e+02],\n",
       "       [5.486e+02],\n",
       "       [5.584e+02],\n",
       "       [5.656e+02],\n",
       "       [5.726e+02],\n",
       "       [5.744e+02],\n",
       "       [5.792e+02],\n",
       "       [5.834e+02],\n",
       "       [5.874e+02],\n",
       "       [5.870e+02],\n",
       "       [5.892e+02],\n",
       "       [5.908e+02],\n",
       "       [5.884e+02],\n",
       "       [5.932e+02],\n",
       "       [5.966e+02],\n",
       "       [5.924e+02],\n",
       "       [5.924e+02],\n",
       "       [5.952e+02],\n",
       "       [5.984e+02],\n",
       "       [5.912e+02],\n",
       "       [5.870e+02],\n",
       "       [5.808e+02],\n",
       "       [5.726e+02],\n",
       "       [5.654e+02],\n",
       "       [5.728e+02],\n",
       "       [5.734e+02],\n",
       "       [5.644e+02],\n",
       "       [5.414e+02],\n",
       "       [5.332e+02],\n",
       "       [5.364e+02],\n",
       "       [5.382e+02],\n",
       "       [5.258e+02],\n",
       "       [5.100e+02],\n",
       "       [5.010e+02],\n",
       "       [4.864e+02],\n",
       "       [4.756e+02],\n",
       "       [4.674e+02],\n",
       "       [4.562e+02],\n",
       "       [4.544e+02],\n",
       "       [4.316e+02],\n",
       "       [4.242e+02],\n",
       "       [4.102e+02],\n",
       "       [3.976e+02],\n",
       "       [3.876e+02],\n",
       "       [3.744e+02],\n",
       "       [3.644e+02],\n",
       "       [3.450e+02],\n",
       "       [3.308e+02],\n",
       "       [3.268e+02],\n",
       "       [3.098e+02],\n",
       "       [2.926e+02],\n",
       "       [2.758e+02],\n",
       "       [2.682e+02],\n",
       "       [2.542e+02],\n",
       "       [2.414e+02],\n",
       "       [2.260e+02],\n",
       "       [2.144e+02],\n",
       "       [2.028e+02],\n",
       "       [1.868e+02],\n",
       "       [1.738e+02],\n",
       "       [1.618e+02],\n",
       "       [1.496e+02],\n",
       "       [1.368e+02],\n",
       "       [1.256e+02],\n",
       "       [1.138e+02],\n",
       "       [1.048e+02],\n",
       "       [9.420e+01],\n",
       "       [8.380e+01],\n",
       "       [7.400e+01],\n",
       "       [6.000e+01],\n",
       "       [4.660e+01],\n",
       "       [4.060e+01],\n",
       "       [3.580e+01],\n",
       "       [3.040e+01],\n",
       "       [2.420e+01],\n",
       "       [1.960e+01],\n",
       "       [1.420e+01],\n",
       "       [9.400e+00],\n",
       "       [5.200e+00],\n",
       "       [2.200e+00],\n",
       "       [2.000e+00],\n",
       "       [2.000e+00],\n",
       "       [2.000e+00],\n",
       "       [2.000e+00],\n",
       "       [2.000e+00],\n",
       "       [1.600e+00],\n",
       "       [1.600e+00],\n",
       "       [1.600e+00],\n",
       "       [1.400e+00],\n",
       "       [1.400e+00],\n",
       "       [2.000e+00],\n",
       "       [2.000e+00],\n",
       "       [2.000e+00],\n",
       "       [2.000e+00],\n",
       "       [1.800e+00],\n",
       "       [1.600e+00],\n",
       "       [2.000e+00],\n",
       "       [2.000e+00],\n",
       "       [1.800e+00],\n",
       "       [1.600e+00],\n",
       "       [2.000e+00],\n",
       "       [1.400e+00],\n",
       "       [2.000e+00],\n",
       "       [2.000e+00],\n",
       "       [1.200e+00],\n",
       "       [1.800e+00],\n",
       "       [2.000e+00],\n",
       "       [2.000e+00],\n",
       "       [2.000e+00],\n",
       "       [2.000e+00],\n",
       "       [1.000e+00],\n",
       "       [1.600e+00],\n",
       "       [1.200e+00],\n",
       "       [2.000e+00],\n",
       "       [2.000e+00],\n",
       "       [1.800e+00],\n",
       "       [1.000e+00],\n",
       "       [2.000e+00],\n",
       "       [2.000e+00],\n",
       "       [1.800e+00],\n",
       "       [1.600e+00],\n",
       "       [1.000e+00],\n",
       "       [1.000e+00],\n",
       "       [1.000e+00],\n",
       "       [1.600e+00],\n",
       "       [1.000e+00],\n",
       "       [1.000e+00],\n",
       "       [1.000e+00],\n",
       "       [2.000e+00],\n",
       "       [1.800e+00],\n",
       "       [1.400e+00],\n",
       "       [1.000e+00],\n",
       "       [1.600e+00],\n",
       "       [1.800e+00],\n",
       "       [1.400e+00],\n",
       "       [1.400e+00],\n",
       "       [1.400e+00],\n",
       "       [1.800e+00],\n",
       "       [1.400e+00],\n",
       "       [1.000e+00],\n",
       "       [1.000e+00],\n",
       "       [1.000e+00],\n",
       "       [1.000e+00],\n",
       "       [1.000e+00],\n",
       "       [1.000e+00],\n",
       "       [1.400e+00],\n",
       "       [2.000e+00],\n",
       "       [2.000e+00],\n",
       "       [2.000e+00],\n",
       "       [2.000e+00],\n",
       "       [2.000e+00],\n",
       "       [2.000e+00],\n",
       "       [2.000e+00],\n",
       "       [4.000e-01],\n",
       "       [0.000e+00],\n",
       "       [0.000e+00],\n",
       "       [0.000e+00],\n",
       "       [0.000e+00]])"
      ]
     },
     "execution_count": 56,
     "metadata": {},
     "output_type": "execute_result"
    }
   ],
   "source": [
    "y_test"
   ]
  },
  {
   "cell_type": "code",
   "execution_count": 53,
   "metadata": {},
   "outputs": [],
   "source": [
    "y_test = test[1:]"
   ]
  },
  {
   "cell_type": "code",
   "execution_count": 54,
   "metadata": {},
   "outputs": [
    {
     "data": {
      "text/plain": [
       "array([[0.00000000e+00],\n",
       "       [0.00000000e+00],\n",
       "       [0.00000000e+00],\n",
       "       [0.00000000e+00],\n",
       "       [0.00000000e+00],\n",
       "       [0.00000000e+00],\n",
       "       [0.00000000e+00],\n",
       "       [3.24388086e-03],\n",
       "       [2.94898260e-03],\n",
       "       [2.94898260e-03],\n",
       "       [3.83367738e-03],\n",
       "       [3.24388086e-03],\n",
       "       [3.53877912e-03],\n",
       "       [3.83367738e-03],\n",
       "       [3.53877912e-03],\n",
       "       [3.83367738e-03],\n",
       "       [2.94898260e-03],\n",
       "       [4.42347390e-03],\n",
       "       [3.53877912e-03],\n",
       "       [3.53877912e-03],\n",
       "       [3.53877912e-03],\n",
       "       [2.94898260e-03],\n",
       "       [2.94898260e-03],\n",
       "       [2.94898260e-03],\n",
       "       [2.94898260e-03],\n",
       "       [2.94898260e-03],\n",
       "       [2.94898260e-03],\n",
       "       [2.94898260e-03],\n",
       "       [2.94898260e-03],\n",
       "       [2.94898260e-03],\n",
       "       [2.94898260e-03],\n",
       "       [2.94898260e-03],\n",
       "       [4.12857564e-03],\n",
       "       [3.53877912e-03],\n",
       "       [2.94898260e-03],\n",
       "       [2.94898260e-03],\n",
       "       [2.94898260e-03],\n",
       "       [2.94898260e-03],\n",
       "       [2.94898260e-03],\n",
       "       [2.94898260e-03],\n",
       "       [2.94898260e-03],\n",
       "       [2.94898260e-03],\n",
       "       [2.94898260e-03],\n",
       "       [3.53877912e-03],\n",
       "       [2.94898260e-03],\n",
       "       [2.94898260e-03],\n",
       "       [2.94898260e-03],\n",
       "       [2.94898260e-03],\n",
       "       [3.24388086e-03],\n",
       "       [3.53877912e-03],\n",
       "       [2.94898260e-03],\n",
       "       [3.83367738e-03],\n",
       "       [2.94898260e-03],\n",
       "       [2.94898260e-03],\n",
       "       [2.94898260e-03],\n",
       "       [2.94898260e-03],\n",
       "       [3.24388086e-03],\n",
       "       [3.53877912e-03],\n",
       "       [2.94898260e-03],\n",
       "       [2.94898260e-03],\n",
       "       [2.94898260e-03],\n",
       "       [2.35918608e-03],\n",
       "       [2.94898260e-03],\n",
       "       [2.94898260e-03],\n",
       "       [2.94898260e-03],\n",
       "       [2.94898260e-03],\n",
       "       [3.83367738e-03],\n",
       "       [3.53877912e-03],\n",
       "       [3.24388086e-03],\n",
       "       [2.94898260e-03],\n",
       "       [2.94898260e-03],\n",
       "       [2.94898260e-03],\n",
       "       [2.94898260e-03],\n",
       "       [2.94898260e-03],\n",
       "       [2.94898260e-03],\n",
       "       [3.53877912e-03],\n",
       "       [2.94898260e-03],\n",
       "       [2.94898260e-03],\n",
       "       [3.24388086e-03],\n",
       "       [7.66735476e-03],\n",
       "       [1.29755234e-02],\n",
       "       [2.30020643e-02],\n",
       "       [3.30286051e-02],\n",
       "       [4.18755529e-02],\n",
       "       [5.36714833e-02],\n",
       "       [6.39929224e-02],\n",
       "       [7.43143615e-02],\n",
       "       [8.64051902e-02],\n",
       "       [1.00265408e-01],\n",
       "       [1.13830728e-01],\n",
       "       [1.28870540e-01],\n",
       "       [1.41846063e-01],\n",
       "       [1.50987909e-01],\n",
       "       [1.63668534e-01],\n",
       "       [1.77528753e-01],\n",
       "       [1.90504276e-01],\n",
       "       [2.08493070e-01],\n",
       "       [2.27071660e-01],\n",
       "       [2.43585963e-01],\n",
       "       [2.63344146e-01],\n",
       "       [2.80743144e-01],\n",
       "       [2.99911531e-01],\n",
       "       [3.16130935e-01],\n",
       "       [3.37363610e-01],\n",
       "       [3.57121793e-01],\n",
       "       [3.78354468e-01],\n",
       "       [4.01651430e-01],\n",
       "       [4.18460631e-01],\n",
       "       [4.40578001e-01],\n",
       "       [4.60925981e-01],\n",
       "       [4.82158655e-01],\n",
       "       [5.01621940e-01],\n",
       "       [5.30227072e-01],\n",
       "       [5.57357712e-01],\n",
       "       [5.69743439e-01],\n",
       "       [5.78885285e-01],\n",
       "       [5.71807726e-01],\n",
       "       [6.11913890e-01],\n",
       "       [6.37864937e-01],\n",
       "       [6.53199646e-01],\n",
       "       [6.70008847e-01],\n",
       "       [6.88292539e-01],\n",
       "       [7.00088469e-01],\n",
       "       [7.14538484e-01],\n",
       "       [7.25449720e-01],\n",
       "       [7.27514008e-01],\n",
       "       [7.49041581e-01],\n",
       "       [7.67325273e-01],\n",
       "       [7.83249779e-01],\n",
       "       [7.83544677e-01],\n",
       "       [8.03302861e-01],\n",
       "       [8.08905927e-01],\n",
       "       [8.23355942e-01],\n",
       "       [8.33972280e-01],\n",
       "       [8.44293719e-01],\n",
       "       [8.46947803e-01],\n",
       "       [8.54025361e-01],\n",
       "       [8.60218225e-01],\n",
       "       [8.66116190e-01],\n",
       "       [8.65526393e-01],\n",
       "       [8.68770274e-01],\n",
       "       [8.71129460e-01],\n",
       "       [8.67590681e-01],\n",
       "       [8.74668239e-01],\n",
       "       [8.79681510e-01],\n",
       "       [8.73488646e-01],\n",
       "       [8.73488646e-01],\n",
       "       [8.77617222e-01],\n",
       "       [8.82335594e-01],\n",
       "       [8.71719257e-01],\n",
       "       [8.65526393e-01],\n",
       "       [8.56384547e-01],\n",
       "       [8.44293719e-01],\n",
       "       [8.33677381e-01],\n",
       "       [8.44588617e-01],\n",
       "       [8.45473312e-01],\n",
       "       [8.32202890e-01],\n",
       "       [7.98289590e-01],\n",
       "       [7.86198761e-01],\n",
       "       [7.90917134e-01],\n",
       "       [7.93571218e-01],\n",
       "       [7.75287526e-01],\n",
       "       [7.51990563e-01],\n",
       "       [7.38720142e-01],\n",
       "       [7.17192569e-01],\n",
       "       [7.01268063e-01],\n",
       "       [6.89177234e-01],\n",
       "       [6.72662931e-01],\n",
       "       [6.70008847e-01],\n",
       "       [6.36390445e-01],\n",
       "       [6.25479210e-01],\n",
       "       [6.04836331e-01],\n",
       "       [5.86257741e-01],\n",
       "       [5.71512828e-01],\n",
       "       [5.52049543e-01],\n",
       "       [5.37304630e-01],\n",
       "       [5.08699499e-01],\n",
       "       [4.87761722e-01],\n",
       "       [4.81863757e-01],\n",
       "       [4.56797405e-01],\n",
       "       [4.31436155e-01],\n",
       "       [4.06664701e-01],\n",
       "       [3.95458567e-01],\n",
       "       [3.74815689e-01],\n",
       "       [3.55942200e-01],\n",
       "       [3.33235034e-01],\n",
       "       [3.16130935e-01],\n",
       "       [2.99026836e-01],\n",
       "       [2.75434975e-01],\n",
       "       [2.56266588e-01],\n",
       "       [2.38572692e-01],\n",
       "       [2.20583899e-01],\n",
       "       [2.01710410e-01],\n",
       "       [1.85196107e-01],\n",
       "       [1.67797110e-01],\n",
       "       [1.54526688e-01],\n",
       "       [1.38897081e-01],\n",
       "       [1.23562371e-01],\n",
       "       [1.09112356e-01],\n",
       "       [8.84694780e-02],\n",
       "       [6.87112946e-02],\n",
       "       [5.98643468e-02],\n",
       "       [5.27867886e-02],\n",
       "       [4.48245355e-02],\n",
       "       [3.56826895e-02],\n",
       "       [2.89000295e-02],\n",
       "       [2.09377765e-02],\n",
       "       [1.38602182e-02],\n",
       "       [7.66735476e-03],\n",
       "       [3.24388086e-03],\n",
       "       [2.94898260e-03],\n",
       "       [2.94898260e-03],\n",
       "       [2.94898260e-03],\n",
       "       [2.94898260e-03],\n",
       "       [2.94898260e-03],\n",
       "       [2.35918608e-03],\n",
       "       [2.35918608e-03],\n",
       "       [2.35918608e-03],\n",
       "       [2.06428782e-03],\n",
       "       [2.06428782e-03],\n",
       "       [2.94898260e-03],\n",
       "       [2.94898260e-03],\n",
       "       [2.94898260e-03],\n",
       "       [2.94898260e-03],\n",
       "       [2.65408434e-03],\n",
       "       [2.35918608e-03],\n",
       "       [2.94898260e-03],\n",
       "       [2.94898260e-03],\n",
       "       [2.65408434e-03],\n",
       "       [2.35918608e-03],\n",
       "       [2.94898260e-03],\n",
       "       [2.06428782e-03],\n",
       "       [2.94898260e-03],\n",
       "       [2.94898260e-03],\n",
       "       [1.76938956e-03],\n",
       "       [2.65408434e-03],\n",
       "       [2.94898260e-03],\n",
       "       [2.94898260e-03],\n",
       "       [2.94898260e-03],\n",
       "       [2.94898260e-03],\n",
       "       [1.47449130e-03],\n",
       "       [2.35918608e-03],\n",
       "       [1.76938956e-03],\n",
       "       [2.94898260e-03],\n",
       "       [2.94898260e-03],\n",
       "       [2.65408434e-03],\n",
       "       [1.47449130e-03],\n",
       "       [2.94898260e-03],\n",
       "       [2.94898260e-03],\n",
       "       [2.65408434e-03],\n",
       "       [2.35918608e-03],\n",
       "       [1.47449130e-03],\n",
       "       [1.47449130e-03],\n",
       "       [1.47449130e-03],\n",
       "       [2.35918608e-03],\n",
       "       [1.47449130e-03],\n",
       "       [1.47449130e-03],\n",
       "       [1.47449130e-03],\n",
       "       [2.94898260e-03],\n",
       "       [2.65408434e-03],\n",
       "       [2.06428782e-03],\n",
       "       [1.47449130e-03],\n",
       "       [2.35918608e-03],\n",
       "       [2.65408434e-03],\n",
       "       [2.06428782e-03],\n",
       "       [2.06428782e-03],\n",
       "       [2.06428782e-03],\n",
       "       [2.65408434e-03],\n",
       "       [2.06428782e-03],\n",
       "       [1.47449130e-03],\n",
       "       [1.47449130e-03],\n",
       "       [1.47449130e-03],\n",
       "       [1.47449130e-03],\n",
       "       [1.47449130e-03],\n",
       "       [1.47449130e-03],\n",
       "       [2.06428782e-03],\n",
       "       [2.94898260e-03],\n",
       "       [2.94898260e-03],\n",
       "       [2.94898260e-03],\n",
       "       [2.94898260e-03],\n",
       "       [2.94898260e-03],\n",
       "       [2.94898260e-03],\n",
       "       [2.94898260e-03],\n",
       "       [5.89796520e-04],\n",
       "       [0.00000000e+00],\n",
       "       [0.00000000e+00],\n",
       "       [0.00000000e+00],\n",
       "       [0.00000000e+00]])"
      ]
     },
     "execution_count": 54,
     "metadata": {},
     "output_type": "execute_result"
    }
   ],
   "source": [
    "y_test="
   ]
  },
  {
   "cell_type": "code",
   "execution_count": 59,
   "metadata": {},
   "outputs": [
    {
     "data": {
      "image/png": "[encoded data removed]",
      "text/plain": [
       "<Figure size 432x288 with 1 Axes>"
      ]
     },
     "metadata": {},
     "output_type": "display_data"
    }
   ],
   "source": [
    "plt.plot(y_test)\n",
    "plt.show()"
   ]
  },
  {
   "cell_type": "code",
   "execution_count": 60,
   "metadata": {},
   "outputs": [
    {
     "data": {
      "image/png": "[encoded data removed]",
      "text/plain": [
       "<Figure size 432x288 with 1 Axes>"
      ]
     },
     "metadata": {},
     "output_type": "display_data"
    }
   ],
   "source": [
    "plt.plot(y_pred ,color = \"red\")\n",
    "plt.show()"
   ]
  },
  {
   "cell_type": "code",
   "execution_count": 61,
   "metadata": {},
   "outputs": [
    {
     "data": {
      "text/plain": [
       "[<matplotlib.lines.Line2D at 0x25702759208>]"
      ]
     },
     "execution_count": 61,
     "metadata": {},
     "output_type": "execute_result"
    },
    {
     "data": {
      "image/png": "[encoded data removed]",
      "text/plain": [
       "<Figure size 432x288 with 1 Axes>"
      ]
     },
     "metadata": {},
     "output_type": "display_data"
    }
   ],
   "source": [
    "plt.plot(y)"
   ]
  },
  {
   "cell_type": "code",
   "execution_count": 62,
   "metadata": {},
   "outputs": [
    {
     "data": {
      "text/plain": [
       "[<matplotlib.lines.Line2D at 0x25702791780>]"
      ]
     },
     "execution_count": 62,
     "metadata": {},
     "output_type": "execute_result"
    },
    {
     "data": {
      "image/png": "[encoded data removed]",
      "text/plain": [
       "<Figure size 432x288 with 1 Axes>"
      ]
     },
     "metadata": {},
     "output_type": "display_data"
    }
   ],
   "source": [
    "plt.plot(X1)"
   ]
  },
  {
   "cell_type": "code",
   "execution_count": 64,
   "metadata": {},
   "outputs": [],
   "source": [
    "from keras.models import Sequential \n",
    "from keras.layers import Dense \n",
    "from keras.wrappers.scikit_learn import KerasRegressor \n",
    "from sklearn.model_selection import cross_val_score \n",
    "from sklearn.model_selection import KFold \n",
    "from sklearn.preprocessing import StandardScaler \n",
    "from sklearn.pipeline import Pipeline\n",
    "from keras.callbacks import LearningRateScheduler\n",
    "from keras.optimizers import SGD"
   ]
  },
  {
   "cell_type": "code",
   "execution_count": 77,
   "metadata": {},
   "outputs": [
    {
     "name": "stderr",
     "output_type": "stream",
     "text": [
      "c:\\users\\arbaz\\anaconda3\\envs\\tensorflow\\lib\\site-packages\\ipykernel_launcher.py:2: UserWarning: Update your `Dense` call to the Keras 2 API: `Dense(6, activation=\"relu\", kernel_initializer=\"normal\", input_dim=1)`\n",
      "  \n",
      "c:\\users\\arbaz\\anaconda3\\envs\\tensorflow\\lib\\site-packages\\ipykernel_launcher.py:3: UserWarning: Update your `Dense` call to the Keras 2 API: `Dense(8, activation=\"relu\", kernel_initializer=\"normal\")`\n",
      "  This is separate from the ipykernel package so we can avoid doing imports until\n",
      "c:\\users\\arbaz\\anaconda3\\envs\\tensorflow\\lib\\site-packages\\ipykernel_launcher.py:4: UserWarning: Update your `Dense` call to the Keras 2 API: `Dense(8, activation=\"relu\", kernel_initializer=\"normal\")`\n",
      "  after removing the cwd from sys.path.\n",
      "c:\\users\\arbaz\\anaconda3\\envs\\tensorflow\\lib\\site-packages\\ipykernel_launcher.py:5: UserWarning: Update your `Dense` call to the Keras 2 API: `Dense(5, activation=\"relu\", kernel_initializer=\"normal\")`\n",
      "  \"\"\"\n",
      "c:\\users\\arbaz\\anaconda3\\envs\\tensorflow\\lib\\site-packages\\ipykernel_launcher.py:6: UserWarning: Update your `Dense` call to the Keras 2 API: `Dense(5, activation=\"relu\", kernel_initializer=\"normal\")`\n",
      "  \n",
      "c:\\users\\arbaz\\anaconda3\\envs\\tensorflow\\lib\\site-packages\\ipykernel_launcher.py:7: UserWarning: Update your `Dense` call to the Keras 2 API: `Dense(8, activation=\"relu\", kernel_initializer=\"normal\")`\n",
      "  import sys\n",
      "c:\\users\\arbaz\\anaconda3\\envs\\tensorflow\\lib\\site-packages\\ipykernel_launcher.py:8: UserWarning: Update your `Dense` call to the Keras 2 API: `Dense(8, activation=\"relu\", kernel_initializer=\"normal\")`\n",
      "  \n",
      "c:\\users\\arbaz\\anaconda3\\envs\\tensorflow\\lib\\site-packages\\ipykernel_launcher.py:9: UserWarning: Update your `Dense` call to the Keras 2 API: `Dense(5, activation=\"relu\", kernel_initializer=\"normal\")`\n",
      "  if __name__ == '__main__':\n",
      "c:\\users\\arbaz\\anaconda3\\envs\\tensorflow\\lib\\site-packages\\ipykernel_launcher.py:10: UserWarning: Update your `Dense` call to the Keras 2 API: `Dense(5, activation=\"relu\", kernel_initializer=\"normal\")`\n",
      "  # Remove the CWD from sys.path while we load stuff.\n",
      "c:\\users\\arbaz\\anaconda3\\envs\\tensorflow\\lib\\site-packages\\ipykernel_launcher.py:11: UserWarning: Update your `Dense` call to the Keras 2 API: `Dense(7, activation=\"relu\", kernel_initializer=\"normal\")`\n",
      "  # This is added back by InteractiveShellApp.init_path()\n",
      "c:\\users\\arbaz\\anaconda3\\envs\\tensorflow\\lib\\site-packages\\ipykernel_launcher.py:12: UserWarning: Update your `Dense` call to the Keras 2 API: `Dense(7, activation=\"relu\", kernel_initializer=\"normal\")`\n",
      "  if sys.path[0] == '':\n",
      "c:\\users\\arbaz\\anaconda3\\envs\\tensorflow\\lib\\site-packages\\ipykernel_launcher.py:13: UserWarning: Update your `Dense` call to the Keras 2 API: `Dense(9, activation=\"relu\", kernel_initializer=\"normal\")`\n",
      "  del sys.path[0]\n",
      "c:\\users\\arbaz\\anaconda3\\envs\\tensorflow\\lib\\site-packages\\ipykernel_launcher.py:14: UserWarning: Update your `Dense` call to the Keras 2 API: `Dense(1, kernel_initializer=\"normal\")`\n",
      "  \n"
     ]
    }
   ],
   "source": [
    "model = Sequential() \n",
    "model.add(Dense(6, input_dim=1, init= \"normal\" , activation= \"relu\" ))\n",
    "model.add(Dense(8, init= \"normal\" , activation= \"relu\" ))\n",
    "model.add(Dense(8, init= \"normal\" , activation= \"relu\" ))\n",
    "model.add(Dense(5, init= \"normal\" , activation= \"relu\" ))\n",
    "model.add(Dense(5, init= \"normal\" , activation= \"relu\" ))\n",
    "model.add(Dense(8, init= \"normal\" , activation= \"relu\" ))\n",
    "model.add(Dense(8, init= \"normal\" , activation= \"relu\" ))\n",
    "model.add(Dense(5, init= \"normal\" , activation= \"relu\" ))\n",
    "model.add(Dense(5, init= \"normal\" , activation= \"relu\" ))\n",
    "model.add(Dense(7, init= \"normal\" , activation= \"relu\" ))\n",
    "model.add(Dense(7, init= \"normal\" , activation= \"relu\" ))\n",
    "model.add(Dense(9, init= \"normal\" , activation= \"relu\" ))\n",
    "model.add(Dense(1, init= \"normal\"))\n",
    "sgd = SGD(lr=0.10, momentum=0.95, decay=0.0, nesterov=False) \n",
    "model.compile(loss= \"mean_squared_error\" , optimizer=sgd, metrics=[ \"accuracy\" ]) \n",
    "    "
   ]
  },
  {
   "cell_type": "code",
   "execution_count": 68,
   "metadata": {},
   "outputs": [],
   "source": [
    "X1=X1.values\n",
    "y=y.values"
   ]
  },
  {
   "cell_type": "code",
   "execution_count": 69,
   "metadata": {},
   "outputs": [
    {
     "data": {
      "text/plain": [
       "array([[0.],\n",
       "       [0.],\n",
       "       [0.],\n",
       "       ...,\n",
       "       [0.],\n",
       "       [0.],\n",
       "       [0.]])"
      ]
     },
     "execution_count": 69,
     "metadata": {},
     "output_type": "execute_result"
    }
   ],
   "source": [
    "y"
   ]
  },
  {
   "cell_type": "code",
   "execution_count": 70,
   "metadata": {},
   "outputs": [
    {
     "data": {
      "text/plain": [
       "array([[0.],\n",
       "       [0.],\n",
       "       [0.],\n",
       "       ...,\n",
       "       [0.],\n",
       "       [0.],\n",
       "       [0.]])"
      ]
     },
     "execution_count": 70,
     "metadata": {},
     "output_type": "execute_result"
    }
   ],
   "source": [
    "X1"
   ]
  },
  {
   "cell_type": "code",
   "execution_count": 71,
   "metadata": {},
   "outputs": [
    {
     "data": {
      "text/plain": [
       "[<matplotlib.lines.Line2D at 0x25702a3a0f0>]"
      ]
     },
     "execution_count": 71,
     "metadata": {},
     "output_type": "execute_result"
    },
    {
     "data": {
      "image/png": "[encoded data removed]",
      "text/plain": [
       "<Figure size 432x288 with 1 Axes>"
      ]
     },
     "metadata": {},
     "output_type": "display_data"
    }
   ],
   "source": [
    "plt.plot(y)"
   ]
  },
  {
   "cell_type": "code",
   "execution_count": 72,
   "metadata": {},
   "outputs": [
    {
     "data": {
      "text/plain": [
       "[<matplotlib.lines.Line2D at 0x257005fd320>]"
      ]
     },
     "execution_count": 72,
     "metadata": {},
     "output_type": "execute_result"
    },
    {
     "data": {
      "image/png": "[encoded data removed]",
      "text/plain": [
       "<Figure size 432x288 with 1 Axes>"
      ]
     },
     "metadata": {},
     "output_type": "display_data"
    }
   ],
   "source": [
    "plt.plot(X1)"
   ]
  },
  {
   "cell_type": "code",
   "execution_count": 73,
   "metadata": {},
   "outputs": [],
   "source": [
    "X1 = sc.fit_transform(X1)\n",
    "y =sc.transform(y)"
   ]
  },
  {
   "cell_type": "code",
   "execution_count": 74,
   "metadata": {},
   "outputs": [
    {
     "data": {
      "text/plain": [
       "[<matplotlib.lines.Line2D at 0x25702703da0>]"
      ]
     },
     "execution_count": 74,
     "metadata": {},
     "output_type": "execute_result"
    },
    {
     "data": {
      "image/png": "[encoded data removed]",
      "text/plain": [
       "<Figure size 432x288 with 1 Axes>"
      ]
     },
     "metadata": {},
     "output_type": "display_data"
    }
   ],
   "source": [
    "plt.plot(X1)"
   ]
  },
  {
   "cell_type": "code",
   "execution_count": 75,
   "metadata": {},
   "outputs": [
    {
     "data": {
      "text/plain": [
       "[<matplotlib.lines.Line2D at 0x25700578a58>]"
      ]
     },
     "execution_count": 75,
     "metadata": {},
     "output_type": "execute_result"
    },
    {
     "data": {
      "image/png": "[encoded data removed]",
      "text/plain": [
       "<Figure size 432x288 with 1 Axes>"
      ]
     },
     "metadata": {},
     "output_type": "display_data"
    }
   ],
   "source": [
    "plt.plot(y)"
   ]
  },
  {
   "cell_type": "code",
   "execution_count": 78,
   "metadata": {},
   "outputs": [
    {
     "name": "stderr",
     "output_type": "stream",
     "text": [
      "c:\\users\\arbaz\\anaconda3\\envs\\tensorflow\\lib\\site-packages\\ipykernel_launcher.py:1: UserWarning: The `nb_epoch` argument in `fit` has been renamed `epochs`.\n",
      "  \"\"\"Entry point for launching an IPython kernel.\n"
     ]
    },
    {
     "name": "stdout",
     "output_type": "stream",
     "text": [
      "Epoch 1/200\n",
      " - 2s - loss: 7.0279e-04 - acc: 0.5299\n",
      "Epoch 2/200\n",
      " - 1s - loss: 7.3379e-04 - acc: 0.5299\n",
      "Epoch 3/200\n",
      " - 1s - loss: 7.1268e-04 - acc: 0.5299\n",
      "Epoch 4/200\n",
      " - 1s - loss: 9.8534e-04 - acc: 0.5299\n",
      "Epoch 5/200\n",
      " - 1s - loss: 8.0726e-04 - acc: 0.5299\n",
      "Epoch 6/200\n",
      " - 1s - loss: 9.5262e-04 - acc: 0.5299\n",
      "Epoch 7/200\n"
     ]
    },
    {
     "ename": "KeyboardInterrupt",
     "evalue": "",
     "output_type": "error",
     "traceback": [
      "\u001b[1;31m---------------------------------------------------------------------------\u001b[0m",
      "\u001b[1;31mKeyboardInterrupt\u001b[0m                         Traceback (most recent call last)",
      "\u001b[1;32m<ipython-input-78-06b172bfdd8d>\u001b[0m in \u001b[0;36m<module>\u001b[1;34m()\u001b[0m\n\u001b[1;32m----> 1\u001b[1;33m \u001b[0mmodel\u001b[0m\u001b[1;33m.\u001b[0m\u001b[0mfit\u001b[0m\u001b[1;33m(\u001b[0m\u001b[0mX1\u001b[0m\u001b[1;33m,\u001b[0m \u001b[0my\u001b[0m\u001b[1;33m,\u001b[0m\u001b[0mnb_epoch\u001b[0m\u001b[1;33m=\u001b[0m\u001b[1;36m200\u001b[0m\u001b[1;33m,\u001b[0m \u001b[0mbatch_size\u001b[0m\u001b[1;33m=\u001b[0m\u001b[1;36m1\u001b[0m\u001b[1;33m,\u001b[0m \u001b[0mverbose\u001b[0m\u001b[1;33m=\u001b[0m\u001b[1;36m2\u001b[0m\u001b[1;33m)\u001b[0m\u001b[1;33m\u001b[0m\u001b[0m\n\u001b[0m",
      "\u001b[1;32mc:\\users\\arbaz\\anaconda3\\envs\\tensorflow\\lib\\site-packages\\keras\\engine\\training.py\u001b[0m in \u001b[0;36mfit\u001b[1;34m(self, x, y, batch_size, epochs, verbose, callbacks, validation_split, validation_data, shuffle, class_weight, sample_weight, initial_epoch, steps_per_epoch, validation_steps, **kwargs)\u001b[0m\n\u001b[0;32m   1040\u001b[0m                                         \u001b[0minitial_epoch\u001b[0m\u001b[1;33m=\u001b[0m\u001b[0minitial_epoch\u001b[0m\u001b[1;33m,\u001b[0m\u001b[1;33m\u001b[0m\u001b[0m\n\u001b[0;32m   1041\u001b[0m                                         \u001b[0msteps_per_epoch\u001b[0m\u001b[1;33m=\u001b[0m\u001b[0msteps_per_epoch\u001b[0m\u001b[1;33m,\u001b[0m\u001b[1;33m\u001b[0m\u001b[0m\n\u001b[1;32m-> 1042\u001b[1;33m                                         validation_steps=validation_steps)\n\u001b[0m\u001b[0;32m   1043\u001b[0m \u001b[1;33m\u001b[0m\u001b[0m\n\u001b[0;32m   1044\u001b[0m     def evaluate(self, x=None, y=None,\n",
      "\u001b[1;32mc:\\users\\arbaz\\anaconda3\\envs\\tensorflow\\lib\\site-packages\\keras\\engine\\training_arrays.py\u001b[0m in \u001b[0;36mfit_loop\u001b[1;34m(model, f, ins, out_labels, batch_size, epochs, verbose, callbacks, val_f, val_ins, shuffle, callback_metrics, initial_epoch, steps_per_epoch, validation_steps)\u001b[0m\n\u001b[0;32m    197\u001b[0m                     \u001b[0mins_batch\u001b[0m\u001b[1;33m[\u001b[0m\u001b[0mi\u001b[0m\u001b[1;33m]\u001b[0m \u001b[1;33m=\u001b[0m \u001b[0mins_batch\u001b[0m\u001b[1;33m[\u001b[0m\u001b[0mi\u001b[0m\u001b[1;33m]\u001b[0m\u001b[1;33m.\u001b[0m\u001b[0mtoarray\u001b[0m\u001b[1;33m(\u001b[0m\u001b[1;33m)\u001b[0m\u001b[1;33m\u001b[0m\u001b[0m\n\u001b[0;32m    198\u001b[0m \u001b[1;33m\u001b[0m\u001b[0m\n\u001b[1;32m--> 199\u001b[1;33m                 \u001b[0mouts\u001b[0m \u001b[1;33m=\u001b[0m \u001b[0mf\u001b[0m\u001b[1;33m(\u001b[0m\u001b[0mins_batch\u001b[0m\u001b[1;33m)\u001b[0m\u001b[1;33m\u001b[0m\u001b[0m\n\u001b[0m\u001b[0;32m    200\u001b[0m                 \u001b[1;32mif\u001b[0m \u001b[1;32mnot\u001b[0m \u001b[0misinstance\u001b[0m\u001b[1;33m(\u001b[0m\u001b[0mouts\u001b[0m\u001b[1;33m,\u001b[0m \u001b[0mlist\u001b[0m\u001b[1;33m)\u001b[0m\u001b[1;33m:\u001b[0m\u001b[1;33m\u001b[0m\u001b[0m\n\u001b[0;32m    201\u001b[0m                     \u001b[0mouts\u001b[0m \u001b[1;33m=\u001b[0m \u001b[1;33m[\u001b[0m\u001b[0mouts\u001b[0m\u001b[1;33m]\u001b[0m\u001b[1;33m\u001b[0m\u001b[0m\n",
      "\u001b[1;32mc:\\users\\arbaz\\anaconda3\\envs\\tensorflow\\lib\\site-packages\\keras\\backend\\tensorflow_backend.py\u001b[0m in \u001b[0;36m__call__\u001b[1;34m(self, inputs)\u001b[0m\n\u001b[0;32m   2659\u001b[0m                 \u001b[1;32mreturn\u001b[0m \u001b[0mself\u001b[0m\u001b[1;33m.\u001b[0m\u001b[0m_legacy_call\u001b[0m\u001b[1;33m(\u001b[0m\u001b[0minputs\u001b[0m\u001b[1;33m)\u001b[0m\u001b[1;33m\u001b[0m\u001b[0m\n\u001b[0;32m   2660\u001b[0m \u001b[1;33m\u001b[0m\u001b[0m\n\u001b[1;32m-> 2661\u001b[1;33m             \u001b[1;32mreturn\u001b[0m \u001b[0mself\u001b[0m\u001b[1;33m.\u001b[0m\u001b[0m_call\u001b[0m\u001b[1;33m(\u001b[0m\u001b[0minputs\u001b[0m\u001b[1;33m)\u001b[0m\u001b[1;33m\u001b[0m\u001b[0m\n\u001b[0m\u001b[0;32m   2662\u001b[0m         \u001b[1;32melse\u001b[0m\u001b[1;33m:\u001b[0m\u001b[1;33m\u001b[0m\u001b[0m\n\u001b[0;32m   2663\u001b[0m             \u001b[1;32mif\u001b[0m \u001b[0mpy_any\u001b[0m\u001b[1;33m(\u001b[0m\u001b[0mis_tensor\u001b[0m\u001b[1;33m(\u001b[0m\u001b[0mx\u001b[0m\u001b[1;33m)\u001b[0m \u001b[1;32mfor\u001b[0m \u001b[0mx\u001b[0m \u001b[1;32min\u001b[0m \u001b[0minputs\u001b[0m\u001b[1;33m)\u001b[0m\u001b[1;33m:\u001b[0m\u001b[1;33m\u001b[0m\u001b[0m\n",
      "\u001b[1;32mc:\\users\\arbaz\\anaconda3\\envs\\tensorflow\\lib\\site-packages\\keras\\backend\\tensorflow_backend.py\u001b[0m in \u001b[0;36m_call\u001b[1;34m(self, inputs)\u001b[0m\n\u001b[0;32m   2629\u001b[0m                                 \u001b[0msymbol_vals\u001b[0m\u001b[1;33m,\u001b[0m\u001b[1;33m\u001b[0m\u001b[0m\n\u001b[0;32m   2630\u001b[0m                                 session)\n\u001b[1;32m-> 2631\u001b[1;33m         \u001b[0mfetched\u001b[0m \u001b[1;33m=\u001b[0m \u001b[0mself\u001b[0m\u001b[1;33m.\u001b[0m\u001b[0m_callable_fn\u001b[0m\u001b[1;33m(\u001b[0m\u001b[1;33m*\u001b[0m\u001b[0marray_vals\u001b[0m\u001b[1;33m)\u001b[0m\u001b[1;33m\u001b[0m\u001b[0m\n\u001b[0m\u001b[0;32m   2632\u001b[0m         \u001b[1;32mreturn\u001b[0m \u001b[0mfetched\u001b[0m\u001b[1;33m[\u001b[0m\u001b[1;33m:\u001b[0m\u001b[0mlen\u001b[0m\u001b[1;33m(\u001b[0m\u001b[0mself\u001b[0m\u001b[1;33m.\u001b[0m\u001b[0moutputs\u001b[0m\u001b[1;33m)\u001b[0m\u001b[1;33m]\u001b[0m\u001b[1;33m\u001b[0m\u001b[0m\n\u001b[0;32m   2633\u001b[0m \u001b[1;33m\u001b[0m\u001b[0m\n",
      "\u001b[1;32mc:\\users\\arbaz\\anaconda3\\envs\\tensorflow\\lib\\site-packages\\tensorflow\\python\\client\\session.py\u001b[0m in \u001b[0;36m__call__\u001b[1;34m(self, *args)\u001b[0m\n\u001b[0;32m   1449\u001b[0m         \u001b[1;32mif\u001b[0m \u001b[0mself\u001b[0m\u001b[1;33m.\u001b[0m\u001b[0m_session\u001b[0m\u001b[1;33m.\u001b[0m\u001b[0m_created_with_new_api\u001b[0m\u001b[1;33m:\u001b[0m\u001b[1;33m\u001b[0m\u001b[0m\n\u001b[0;32m   1450\u001b[0m           return tf_session.TF_SessionRunCallable(\n\u001b[1;32m-> 1451\u001b[1;33m               self._session._session, self._handle, args, status, None)\n\u001b[0m\u001b[0;32m   1452\u001b[0m         \u001b[1;32melse\u001b[0m\u001b[1;33m:\u001b[0m\u001b[1;33m\u001b[0m\u001b[0m\n\u001b[0;32m   1453\u001b[0m           return tf_session.TF_DeprecatedSessionRunCallable(\n",
      "\u001b[1;31mKeyboardInterrupt\u001b[0m: "
     ]
    }
   ],
   "source": [
    "model.fit(X1, y,nb_epoch=200, batch_size=1, verbose=2) "
   ]
  },
  {
   "cell_type": "code",
   "execution_count": 80,
   "metadata": {},
   "outputs": [],
   "source": [
    "X2=X2.values"
   ]
  },
  {
   "cell_type": "code",
   "execution_count": 81,
   "metadata": {},
   "outputs": [],
   "source": [
    "X2=sc.transform(X2)"
   ]
  },
  {
   "cell_type": "code",
   "execution_count": 82,
   "metadata": {},
   "outputs": [
    {
     "data": {
      "text/plain": [
       "array([[0.00000000e+00],\n",
       "       [0.00000000e+00],\n",
       "       [0.00000000e+00],\n",
       "       [0.00000000e+00],\n",
       "       [0.00000000e+00],\n",
       "       [0.00000000e+00],\n",
       "       [0.00000000e+00],\n",
       "       [0.00000000e+00],\n",
       "       [3.24388086e-03],\n",
       "       [2.94898260e-03],\n",
       "       [2.94898260e-03],\n",
       "       [3.83367738e-03],\n",
       "       [3.24388086e-03],\n",
       "       [3.53877912e-03],\n",
       "       [3.83367738e-03],\n",
       "       [3.53877912e-03],\n",
       "       [3.83367738e-03],\n",
       "       [2.94898260e-03],\n",
       "       [4.42347390e-03],\n",
       "       [3.53877912e-03],\n",
       "       [3.53877912e-03],\n",
       "       [3.53877912e-03],\n",
       "       [2.94898260e-03],\n",
       "       [2.94898260e-03],\n",
       "       [2.94898260e-03],\n",
       "       [2.94898260e-03],\n",
       "       [2.94898260e-03],\n",
       "       [2.94898260e-03],\n",
       "       [2.94898260e-03],\n",
       "       [2.94898260e-03],\n",
       "       [2.94898260e-03],\n",
       "       [2.94898260e-03],\n",
       "       [2.94898260e-03],\n",
       "       [4.12857564e-03],\n",
       "       [3.53877912e-03],\n",
       "       [2.94898260e-03],\n",
       "       [2.94898260e-03],\n",
       "       [2.94898260e-03],\n",
       "       [2.94898260e-03],\n",
       "       [2.94898260e-03],\n",
       "       [2.94898260e-03],\n",
       "       [2.94898260e-03],\n",
       "       [2.94898260e-03],\n",
       "       [2.94898260e-03],\n",
       "       [3.53877912e-03],\n",
       "       [2.94898260e-03],\n",
       "       [2.94898260e-03],\n",
       "       [2.94898260e-03],\n",
       "       [2.94898260e-03],\n",
       "       [3.24388086e-03],\n",
       "       [3.53877912e-03],\n",
       "       [2.94898260e-03],\n",
       "       [3.83367738e-03],\n",
       "       [2.94898260e-03],\n",
       "       [2.94898260e-03],\n",
       "       [2.94898260e-03],\n",
       "       [2.94898260e-03],\n",
       "       [3.24388086e-03],\n",
       "       [3.53877912e-03],\n",
       "       [2.94898260e-03],\n",
       "       [2.94898260e-03],\n",
       "       [2.94898260e-03],\n",
       "       [2.35918608e-03],\n",
       "       [2.94898260e-03],\n",
       "       [2.94898260e-03],\n",
       "       [2.94898260e-03],\n",
       "       [2.94898260e-03],\n",
       "       [3.83367738e-03],\n",
       "       [3.53877912e-03],\n",
       "       [3.24388086e-03],\n",
       "       [2.94898260e-03],\n",
       "       [2.94898260e-03],\n",
       "       [2.94898260e-03],\n",
       "       [2.94898260e-03],\n",
       "       [2.94898260e-03],\n",
       "       [2.94898260e-03],\n",
       "       [3.53877912e-03],\n",
       "       [2.94898260e-03],\n",
       "       [2.94898260e-03],\n",
       "       [3.24388086e-03],\n",
       "       [7.66735476e-03],\n",
       "       [1.29755234e-02],\n",
       "       [2.30020643e-02],\n",
       "       [3.30286051e-02],\n",
       "       [4.18755529e-02],\n",
       "       [5.36714833e-02],\n",
       "       [6.39929224e-02],\n",
       "       [7.43143615e-02],\n",
       "       [8.64051902e-02],\n",
       "       [1.00265408e-01],\n",
       "       [1.13830728e-01],\n",
       "       [1.28870540e-01],\n",
       "       [1.41846063e-01],\n",
       "       [1.50987909e-01],\n",
       "       [1.63668534e-01],\n",
       "       [1.77528753e-01],\n",
       "       [1.90504276e-01],\n",
       "       [2.08493070e-01],\n",
       "       [2.27071660e-01],\n",
       "       [2.43585963e-01],\n",
       "       [2.63344146e-01],\n",
       "       [2.80743144e-01],\n",
       "       [2.99911531e-01],\n",
       "       [3.16130935e-01],\n",
       "       [3.37363610e-01],\n",
       "       [3.57121793e-01],\n",
       "       [3.78354468e-01],\n",
       "       [4.01651430e-01],\n",
       "       [4.18460631e-01],\n",
       "       [4.40578001e-01],\n",
       "       [4.60925981e-01],\n",
       "       [4.82158655e-01],\n",
       "       [5.01621940e-01],\n",
       "       [5.30227072e-01],\n",
       "       [5.57357712e-01],\n",
       "       [5.69743439e-01],\n",
       "       [5.78885285e-01],\n",
       "       [5.71807726e-01],\n",
       "       [6.11913890e-01],\n",
       "       [6.37864937e-01],\n",
       "       [6.53199646e-01],\n",
       "       [6.70008847e-01],\n",
       "       [6.88292539e-01],\n",
       "       [7.00088469e-01],\n",
       "       [7.14538484e-01],\n",
       "       [7.25449720e-01],\n",
       "       [7.27514008e-01],\n",
       "       [7.49041581e-01],\n",
       "       [7.67325273e-01],\n",
       "       [7.83249779e-01],\n",
       "       [7.83544677e-01],\n",
       "       [8.03302861e-01],\n",
       "       [8.08905927e-01],\n",
       "       [8.23355942e-01],\n",
       "       [8.33972280e-01],\n",
       "       [8.44293719e-01],\n",
       "       [8.46947803e-01],\n",
       "       [8.54025361e-01],\n",
       "       [8.60218225e-01],\n",
       "       [8.66116190e-01],\n",
       "       [8.65526393e-01],\n",
       "       [8.68770274e-01],\n",
       "       [8.71129460e-01],\n",
       "       [8.67590681e-01],\n",
       "       [8.74668239e-01],\n",
       "       [8.79681510e-01],\n",
       "       [8.73488646e-01],\n",
       "       [8.73488646e-01],\n",
       "       [8.77617222e-01],\n",
       "       [8.82335594e-01],\n",
       "       [8.71719257e-01],\n",
       "       [8.65526393e-01],\n",
       "       [8.56384547e-01],\n",
       "       [8.44293719e-01],\n",
       "       [8.33677381e-01],\n",
       "       [8.44588617e-01],\n",
       "       [8.45473312e-01],\n",
       "       [8.32202890e-01],\n",
       "       [7.98289590e-01],\n",
       "       [7.86198761e-01],\n",
       "       [7.90917134e-01],\n",
       "       [7.93571218e-01],\n",
       "       [7.75287526e-01],\n",
       "       [7.51990563e-01],\n",
       "       [7.38720142e-01],\n",
       "       [7.17192569e-01],\n",
       "       [7.01268063e-01],\n",
       "       [6.89177234e-01],\n",
       "       [6.72662931e-01],\n",
       "       [6.70008847e-01],\n",
       "       [6.36390445e-01],\n",
       "       [6.25479210e-01],\n",
       "       [6.04836331e-01],\n",
       "       [5.86257741e-01],\n",
       "       [5.71512828e-01],\n",
       "       [5.52049543e-01],\n",
       "       [5.37304630e-01],\n",
       "       [5.08699499e-01],\n",
       "       [4.87761722e-01],\n",
       "       [4.81863757e-01],\n",
       "       [4.56797405e-01],\n",
       "       [4.31436155e-01],\n",
       "       [4.06664701e-01],\n",
       "       [3.95458567e-01],\n",
       "       [3.74815689e-01],\n",
       "       [3.55942200e-01],\n",
       "       [3.33235034e-01],\n",
       "       [3.16130935e-01],\n",
       "       [2.99026836e-01],\n",
       "       [2.75434975e-01],\n",
       "       [2.56266588e-01],\n",
       "       [2.38572692e-01],\n",
       "       [2.20583899e-01],\n",
       "       [2.01710410e-01],\n",
       "       [1.85196107e-01],\n",
       "       [1.67797110e-01],\n",
       "       [1.54526688e-01],\n",
       "       [1.38897081e-01],\n",
       "       [1.23562371e-01],\n",
       "       [1.09112356e-01],\n",
       "       [8.84694780e-02],\n",
       "       [6.87112946e-02],\n",
       "       [5.98643468e-02],\n",
       "       [5.27867886e-02],\n",
       "       [4.48245355e-02],\n",
       "       [3.56826895e-02],\n",
       "       [2.89000295e-02],\n",
       "       [2.09377765e-02],\n",
       "       [1.38602182e-02],\n",
       "       [7.66735476e-03],\n",
       "       [3.24388086e-03],\n",
       "       [2.94898260e-03],\n",
       "       [2.94898260e-03],\n",
       "       [2.94898260e-03],\n",
       "       [2.94898260e-03],\n",
       "       [2.94898260e-03],\n",
       "       [2.35918608e-03],\n",
       "       [2.35918608e-03],\n",
       "       [2.35918608e-03],\n",
       "       [2.06428782e-03],\n",
       "       [2.06428782e-03],\n",
       "       [2.94898260e-03],\n",
       "       [2.94898260e-03],\n",
       "       [2.94898260e-03],\n",
       "       [2.94898260e-03],\n",
       "       [2.65408434e-03],\n",
       "       [2.35918608e-03],\n",
       "       [2.94898260e-03],\n",
       "       [2.94898260e-03],\n",
       "       [2.65408434e-03],\n",
       "       [2.35918608e-03],\n",
       "       [2.94898260e-03],\n",
       "       [2.06428782e-03],\n",
       "       [2.94898260e-03],\n",
       "       [2.94898260e-03],\n",
       "       [1.76938956e-03],\n",
       "       [2.65408434e-03],\n",
       "       [2.94898260e-03],\n",
       "       [2.94898260e-03],\n",
       "       [2.94898260e-03],\n",
       "       [2.94898260e-03],\n",
       "       [1.47449130e-03],\n",
       "       [2.35918608e-03],\n",
       "       [1.76938956e-03],\n",
       "       [2.94898260e-03],\n",
       "       [2.94898260e-03],\n",
       "       [2.65408434e-03],\n",
       "       [1.47449130e-03],\n",
       "       [2.94898260e-03],\n",
       "       [2.94898260e-03],\n",
       "       [2.65408434e-03],\n",
       "       [2.35918608e-03],\n",
       "       [1.47449130e-03],\n",
       "       [1.47449130e-03],\n",
       "       [1.47449130e-03],\n",
       "       [2.35918608e-03],\n",
       "       [1.47449130e-03],\n",
       "       [1.47449130e-03],\n",
       "       [1.47449130e-03],\n",
       "       [2.94898260e-03],\n",
       "       [2.65408434e-03],\n",
       "       [2.06428782e-03],\n",
       "       [1.47449130e-03],\n",
       "       [2.35918608e-03],\n",
       "       [2.65408434e-03],\n",
       "       [2.06428782e-03],\n",
       "       [2.06428782e-03],\n",
       "       [2.06428782e-03],\n",
       "       [2.65408434e-03],\n",
       "       [2.06428782e-03],\n",
       "       [1.47449130e-03],\n",
       "       [1.47449130e-03],\n",
       "       [1.47449130e-03],\n",
       "       [1.47449130e-03],\n",
       "       [1.47449130e-03],\n",
       "       [1.47449130e-03],\n",
       "       [2.06428782e-03],\n",
       "       [2.94898260e-03],\n",
       "       [2.94898260e-03],\n",
       "       [2.94898260e-03],\n",
       "       [2.94898260e-03],\n",
       "       [2.94898260e-03],\n",
       "       [2.94898260e-03],\n",
       "       [2.94898260e-03],\n",
       "       [5.89796520e-04],\n",
       "       [0.00000000e+00],\n",
       "       [0.00000000e+00],\n",
       "       [0.00000000e+00],\n",
       "       [0.00000000e+00]])"
      ]
     },
     "execution_count": 82,
     "metadata": {},
     "output_type": "execute_result"
    }
   ],
   "source": [
    "X2"
   ]
  },
  {
   "cell_type": "code",
   "execution_count": 83,
   "metadata": {},
   "outputs": [],
   "source": [
    "y_solar=model.predict(X2)"
   ]
  },
  {
   "cell_type": "code",
   "execution_count": 85,
   "metadata": {},
   "outputs": [
    {
     "data": {
      "text/plain": [
       "[<matplotlib.lines.Line2D at 0x25702bfd358>]"
      ]
     },
     "execution_count": 85,
     "metadata": {},
     "output_type": "execute_result"
    },
    {
     "data": {
      "image/png": "[encoded data removed]",
      "text/plain": [
       "<Figure size 432x288 with 1 Axes>"
      ]
     },
     "metadata": {},
     "output_type": "display_data"
    }
   ],
   "source": [
    "plt.plot(y_solar)"
   ]
  },
  {
   "cell_type": "code",
   "execution_count": 87,
   "metadata": {},
   "outputs": [
    {
     "data": {
      "text/plain": [
       "[<matplotlib.lines.Line2D at 0x2570422e0b8>]"
      ]
     },
     "execution_count": 87,
     "metadata": {},
     "output_type": "execute_result"
    },
    {
     "data": {
      "image/png": "[encoded data removed]",
      "text/plain": [
       "<Figure size 432x288 with 1 Axes>"
      ]
     },
     "metadata": {},
     "output_type": "display_data"
    }
   ],
   "source": [
    "plt.plot(X2)"
   ]
  },
  {
   "cell_type": "code",
   "execution_count": 89,
   "metadata": {},
   "outputs": [
    {
     "data": {
      "text/plain": [
       "[<matplotlib.lines.Line2D at 0x257045f8780>]"
      ]
     },
     "execution_count": 89,
     "metadata": {},
     "output_type": "execute_result"
    },
    {
     "data": {
      "image/png": "[encoded data removed]",
      "text/plain": [
       "<Figure size 432x288 with 1 Axes>"
      ]
     },
     "metadata": {},
     "output_type": "display_data"
    }
   ],
   "source": [
    "plt.plot(y2)"
   ]
  },
  {
   "cell_type": "code",
   "execution_count": 90,
   "metadata": {},
   "outputs": [],
   "source": [
    "from sklearn.preprocessing import StandardScaler \n",
    "from sklearn.model_selection import train_test_split \n",
    "from sklearn.model_selection import KFold \n",
    "from sklearn.model_selection import cross_val_score \n",
    "from sklearn.model_selection import GridSearchCV \n",
    "from sklearn.linear_model import LinearRegression \n",
    "from sklearn.linear_model import Lasso \n",
    "from sklearn.linear_model import ElasticNet \n",
    "from sklearn.tree import DecisionTreeRegressor \n",
    "from sklearn.neighbors import KNeighborsRegressor \n",
    "from sklearn.svm import SVR \n",
    "from sklearn.pipeline import Pipeline \n",
    "from sklearn.ensemble import RandomForestRegressor \n",
    "from sklearn.ensemble import GradientBoostingRegressor \n",
    "from sklearn.ensemble import ExtraTreesRegressor \n",
    "from sklearn.ensemble import AdaBoostRegressor \n",
    "from sklearn.metrics import mean_squared_error\n"
   ]
  },
  {
   "cell_type": "code",
   "execution_count": 91,
   "metadata": {},
   "outputs": [],
   "source": [
    "num_folds = 10 \n",
    "seed = 7 \n",
    "scoring = 'neg_mean_squared_error'\n"
   ]
  },
  {
   "cell_type": "code",
   "execution_count": 92,
   "metadata": {},
   "outputs": [],
   "source": [
    "models = [] \n",
    "models.append(('LR', LinearRegression())) \n",
    "models.append(('LASSO', Lasso())) \n",
    "models.append(('EN', ElasticNet())) \n",
    "models.append(('KNN', KNeighborsRegressor())) \n",
    "models.append(('CART', DecisionTreeRegressor())) \n"
   ]
  },
  {
   "cell_type": "code",
   "execution_count": 94,
   "metadata": {},
   "outputs": [
    {
     "name": "stdout",
     "output_type": "stream",
     "text": [
      "LR: -0.000014 (0.000017)\n",
      "LASSO: -0.000281 (0.000160)\n",
      "EN: -0.000281 (0.000160)\n",
      "KNN: -0.000013 (0.000016)\n",
      "CART: -0.000019 (0.000021)\n"
     ]
    }
   ],
   "source": [
    "results = [] \n",
    "names = [] \n",
    "for name, model in models: \n",
    "    kfold = KFold(n_splits=num_folds, random_state=seed) \n",
    "    cv_results = cross_val_score(model, X1, y, cv=kfold, scoring=scoring) \n",
    "    results.append(cv_results) \n",
    "    names.append(name) \n",
    "    msg = \"%s: %f (%f)\" % (name, cv_results.mean(), cv_results.std()) \n",
    "    print(msg)"
   ]
  },
  {
   "cell_type": "code",
   "execution_count": 95,
   "metadata": {},
   "outputs": [
    {
     "data": {
      "image/png": "[encoded data removed]",
      "text/plain": [
       "<Figure size 432x288 with 1 Axes>"
      ]
     },
     "metadata": {},
     "output_type": "display_data"
    }
   ],
   "source": [
    "# Compare Algorithms \n",
    "fig = plt.figure() \n",
    "fig.suptitle('Scaled Algorithm Comparison') \n",
    "ax = fig.add_subplot(111) \n",
    "plt.boxplot(results) \n",
    "ax.set_xticklabels(names) \n",
    "plt.show()"
   ]
  },
  {
   "cell_type": "code",
   "execution_count": 97,
   "metadata": {},
   "outputs": [
    {
     "data": {
      "text/plain": [
       "KNeighborsRegressor(algorithm='auto', leaf_size=30, metric='minkowski',\n",
       "          metric_params=None, n_jobs=1, n_neighbors=25, p=2,\n",
       "          weights='uniform')"
      ]
     },
     "execution_count": 97,
     "metadata": {},
     "output_type": "execute_result"
    }
   ],
   "source": [
    "knc=KNeighborsRegressor(n_neighbors=25,metric=\"minkowski\",p=2)\n",
    "knc.fit(X1,y)"
   ]
  },
  {
   "cell_type": "code",
   "execution_count": 132,
   "metadata": {},
   "outputs": [],
   "source": [
    "y_solark=knc.predict(y_pred)"
   ]
  },
  {
   "cell_type": "code",
   "execution_count": 133,
   "metadata": {},
   "outputs": [
    {
     "data": {
      "text/plain": [
       "0.9620443889602037"
      ]
     },
     "execution_count": 133,
     "metadata": {},
     "output_type": "execute_result"
    }
   ],
   "source": [
    "knc.score(X1,y)"
   ]
  },
  {
   "cell_type": "code",
   "execution_count": 135,
   "metadata": {},
   "outputs": [],
   "source": [
    "y_solark=sc.inverse_transform(y_solark)"
   ]
  },
  {
   "cell_type": "code",
   "execution_count": 136,
   "metadata": {},
   "outputs": [
    {
     "data": {
      "text/plain": [
       "[<matplotlib.lines.Line2D at 0x25708079e48>]"
      ]
     },
     "execution_count": 136,
     "metadata": {},
     "output_type": "execute_result"
    },
    {
     "data": {
      "image/png": "[encoded data removed]",
      "text/plain": [
       "<Figure size 432x288 with 1 Axes>"
      ]
     },
     "metadata": {},
     "output_type": "display_data"
    }
   ],
   "source": [
    "plt.plot(y_solark)\n",
    "plt.plot(y2)"
   ]
  },
  {
   "cell_type": "code",
   "execution_count": 104,
   "metadata": {},
   "outputs": [
    {
     "data": {
      "text/plain": [
       "[<matplotlib.lines.Line2D at 0x25707d94ef0>]"
      ]
     },
     "execution_count": 104,
     "metadata": {},
     "output_type": "execute_result"
    },
    {
     "data": {
      "image/png": "[encoded data removed]",
      "text/plain": [
       "<Figure size 432x288 with 1 Axes>"
      ]
     },
     "metadata": {},
     "output_type": "display_data"
    }
   ],
   "source": [
    "plt.plot(y2)"
   ]
  },
  {
   "cell_type": "code",
   "execution_count": 105,
   "metadata": {},
   "outputs": [],
   "source": [
    "y_solark=sc.inverse_transform(y_solark)"
   ]
  },
  {
   "cell_type": "code",
   "execution_count": 110,
   "metadata": {},
   "outputs": [
    {
     "data": {
      "text/plain": [
       "[<matplotlib.lines.Line2D at 0x25707e1d470>]"
      ]
     },
     "execution_count": 110,
     "metadata": {},
     "output_type": "execute_result"
    },
    {
     "data": {
      "image/png": "[encoded data removed]",
      "text/plain": [
       "<Figure size 432x288 with 1 Axes>"
      ]
     },
     "metadata": {},
     "output_type": "display_data"
    }
   ],
   "source": [
    "plt.plot(y2,color=\"red\")\n",
    "plt.plot(y_solark)"
   ]
  },
  {
   "cell_type": "code",
   "execution_count": 109,
   "metadata": {},
   "outputs": [],
   "source": [
    "y2=y2.values"
   ]
  },
  {
   "cell_type": "code",
   "execution_count": 111,
   "metadata": {},
   "outputs": [
    {
     "data": {
      "text/plain": [
       "0.9719234327405296"
      ]
     },
     "execution_count": 111,
     "metadata": {},
     "output_type": "execute_result"
    }
   ],
   "source": [
    "knc.score(X2,sc.transform(y2))"
   ]
  },
  {
   "cell_type": "code",
   "execution_count": 112,
   "metadata": {},
   "outputs": [],
   "source": [
    "rfr=GradientBoostingRegressor(n_estimators=50)"
   ]
  },
  {
   "cell_type": "code",
   "execution_count": 113,
   "metadata": {},
   "outputs": [
    {
     "name": "stderr",
     "output_type": "stream",
     "text": [
      "c:\\users\\arbaz\\anaconda3\\envs\\tensorflow\\lib\\site-packages\\sklearn\\utils\\validation.py:578: DataConversionWarning: A column-vector y was passed when a 1d array was expected. Please change the shape of y to (n_samples, ), for example using ravel().\n",
      "  y = column_or_1d(y, warn=True)\n"
     ]
    },
    {
     "data": {
      "text/plain": [
       "GradientBoostingRegressor(alpha=0.9, criterion='friedman_mse', init=None,\n",
       "             learning_rate=0.1, loss='ls', max_depth=3, max_features=None,\n",
       "             max_leaf_nodes=None, min_impurity_decrease=0.0,\n",
       "             min_impurity_split=None, min_samples_leaf=1,\n",
       "             min_samples_split=2, min_weight_fraction_leaf=0.0,\n",
       "             n_estimators=50, presort='auto', random_state=None,\n",
       "             subsample=1.0, verbose=0, warm_start=False)"
      ]
     },
     "execution_count": 113,
     "metadata": {},
     "output_type": "execute_result"
    }
   ],
   "source": [
    "rfr.fit(X1,y)"
   ]
  },
  {
   "cell_type": "code",
   "execution_count": 114,
   "metadata": {},
   "outputs": [
    {
     "data": {
      "text/plain": [
       "0.9789732850940667"
      ]
     },
     "execution_count": 114,
     "metadata": {},
     "output_type": "execute_result"
    }
   ],
   "source": [
    "rfr.score(X1,y)"
   ]
  },
  {
   "cell_type": "code",
   "execution_count": 115,
   "metadata": {},
   "outputs": [
    {
     "data": {
      "text/plain": [
       "0.9690511471289132"
      ]
     },
     "execution_count": 115,
     "metadata": {},
     "output_type": "execute_result"
    }
   ],
   "source": [
    "rfr.score(X2,sc.transform(y2))"
   ]
  },
  {
   "cell_type": "code",
   "execution_count": 130,
   "metadata": {},
   "outputs": [],
   "source": [
    "y_solarr=rfr.predict(y_pred)"
   ]
  },
  {
   "cell_type": "code",
   "execution_count": 131,
   "metadata": {},
   "outputs": [
    {
     "data": {
      "image/png": "[encoded data removed]",
      "text/plain": [
       "<Figure size 432x288 with 1 Axes>"
      ]
     },
     "metadata": {},
     "output_type": "display_data"
    }
   ],
   "source": [
    "plt.plot(y_solarr)\n",
    "plt.plot(sc.transform(y2),color=\"red\" )\n",
    "plt.show()"
   ]
  },
  {
   "cell_type": "code",
   "execution_count": 119,
   "metadata": {},
   "outputs": [],
   "source": [
    "ensembles = [] \n",
    "ensembles.append(('ScaledAB', Pipeline([('Scaler', StandardScaler()),('AB', AdaBoostRegressor())]))) \n",
    "ensembles.append(('ScaledGBM', Pipeline([('Scaler', StandardScaler()),('GBM', GradientBoostingRegressor())]))) \n",
    "ensembles.append(('ScaledRF', Pipeline([('Scaler', StandardScaler()),('RF', RandomForestRegressor())]))) \n",
    "ensembles.append(('ScaledET', Pipeline([('Scaler', StandardScaler()),('ET', ExtraTreesRegressor())])))\n",
    "\n"
   ]
  },
  {
   "cell_type": "code",
   "execution_count": 120,
   "metadata": {},
   "outputs": [
    {
     "name": "stderr",
     "output_type": "stream",
     "text": [
      "c:\\users\\arbaz\\anaconda3\\envs\\tensorflow\\lib\\site-packages\\sklearn\\utils\\validation.py:578: DataConversionWarning: A column-vector y was passed when a 1d array was expected. Please change the shape of y to (n_samples, ), for example using ravel().\n",
      "  y = column_or_1d(y, warn=True)\n",
      "c:\\users\\arbaz\\anaconda3\\envs\\tensorflow\\lib\\site-packages\\sklearn\\utils\\validation.py:578: DataConversionWarning: A column-vector y was passed when a 1d array was expected. Please change the shape of y to (n_samples, ), for example using ravel().\n",
      "  y = column_or_1d(y, warn=True)\n",
      "c:\\users\\arbaz\\anaconda3\\envs\\tensorflow\\lib\\site-packages\\sklearn\\utils\\validation.py:578: DataConversionWarning: A column-vector y was passed when a 1d array was expected. Please change the shape of y to (n_samples, ), for example using ravel().\n",
      "  y = column_or_1d(y, warn=True)\n",
      "c:\\users\\arbaz\\anaconda3\\envs\\tensorflow\\lib\\site-packages\\sklearn\\utils\\validation.py:578: DataConversionWarning: A column-vector y was passed when a 1d array was expected. Please change the shape of y to (n_samples, ), for example using ravel().\n",
      "  y = column_or_1d(y, warn=True)\n",
      "c:\\users\\arbaz\\anaconda3\\envs\\tensorflow\\lib\\site-packages\\sklearn\\utils\\validation.py:578: DataConversionWarning: A column-vector y was passed when a 1d array was expected. Please change the shape of y to (n_samples, ), for example using ravel().\n",
      "  y = column_or_1d(y, warn=True)\n",
      "c:\\users\\arbaz\\anaconda3\\envs\\tensorflow\\lib\\site-packages\\sklearn\\utils\\validation.py:578: DataConversionWarning: A column-vector y was passed when a 1d array was expected. Please change the shape of y to (n_samples, ), for example using ravel().\n",
      "  y = column_or_1d(y, warn=True)\n",
      "c:\\users\\arbaz\\anaconda3\\envs\\tensorflow\\lib\\site-packages\\sklearn\\utils\\validation.py:578: DataConversionWarning: A column-vector y was passed when a 1d array was expected. Please change the shape of y to (n_samples, ), for example using ravel().\n",
      "  y = column_or_1d(y, warn=True)\n",
      "c:\\users\\arbaz\\anaconda3\\envs\\tensorflow\\lib\\site-packages\\sklearn\\utils\\validation.py:578: DataConversionWarning: A column-vector y was passed when a 1d array was expected. Please change the shape of y to (n_samples, ), for example using ravel().\n",
      "  y = column_or_1d(y, warn=True)\n",
      "c:\\users\\arbaz\\anaconda3\\envs\\tensorflow\\lib\\site-packages\\sklearn\\utils\\validation.py:578: DataConversionWarning: A column-vector y was passed when a 1d array was expected. Please change the shape of y to (n_samples, ), for example using ravel().\n",
      "  y = column_or_1d(y, warn=True)\n",
      "c:\\users\\arbaz\\anaconda3\\envs\\tensorflow\\lib\\site-packages\\sklearn\\utils\\validation.py:578: DataConversionWarning: A column-vector y was passed when a 1d array was expected. Please change the shape of y to (n_samples, ), for example using ravel().\n",
      "  y = column_or_1d(y, warn=True)\n"
     ]
    },
    {
     "name": "stdout",
     "output_type": "stream",
     "text": [
      "ScaledAB: -0.000015 (0.000018)\n"
     ]
    },
    {
     "name": "stderr",
     "output_type": "stream",
     "text": [
      "c:\\users\\arbaz\\anaconda3\\envs\\tensorflow\\lib\\site-packages\\sklearn\\utils\\validation.py:578: DataConversionWarning: A column-vector y was passed when a 1d array was expected. Please change the shape of y to (n_samples, ), for example using ravel().\n",
      "  y = column_or_1d(y, warn=True)\n",
      "c:\\users\\arbaz\\anaconda3\\envs\\tensorflow\\lib\\site-packages\\sklearn\\utils\\validation.py:578: DataConversionWarning: A column-vector y was passed when a 1d array was expected. Please change the shape of y to (n_samples, ), for example using ravel().\n",
      "  y = column_or_1d(y, warn=True)\n",
      "c:\\users\\arbaz\\anaconda3\\envs\\tensorflow\\lib\\site-packages\\sklearn\\utils\\validation.py:578: DataConversionWarning: A column-vector y was passed when a 1d array was expected. Please change the shape of y to (n_samples, ), for example using ravel().\n",
      "  y = column_or_1d(y, warn=True)\n",
      "c:\\users\\arbaz\\anaconda3\\envs\\tensorflow\\lib\\site-packages\\sklearn\\utils\\validation.py:578: DataConversionWarning: A column-vector y was passed when a 1d array was expected. Please change the shape of y to (n_samples, ), for example using ravel().\n",
      "  y = column_or_1d(y, warn=True)\n",
      "c:\\users\\arbaz\\anaconda3\\envs\\tensorflow\\lib\\site-packages\\sklearn\\utils\\validation.py:578: DataConversionWarning: A column-vector y was passed when a 1d array was expected. Please change the shape of y to (n_samples, ), for example using ravel().\n",
      "  y = column_or_1d(y, warn=True)\n",
      "c:\\users\\arbaz\\anaconda3\\envs\\tensorflow\\lib\\site-packages\\sklearn\\utils\\validation.py:578: DataConversionWarning: A column-vector y was passed when a 1d array was expected. Please change the shape of y to (n_samples, ), for example using ravel().\n",
      "  y = column_or_1d(y, warn=True)\n",
      "c:\\users\\arbaz\\anaconda3\\envs\\tensorflow\\lib\\site-packages\\sklearn\\utils\\validation.py:578: DataConversionWarning: A column-vector y was passed when a 1d array was expected. Please change the shape of y to (n_samples, ), for example using ravel().\n",
      "  y = column_or_1d(y, warn=True)\n",
      "c:\\users\\arbaz\\anaconda3\\envs\\tensorflow\\lib\\site-packages\\sklearn\\utils\\validation.py:578: DataConversionWarning: A column-vector y was passed when a 1d array was expected. Please change the shape of y to (n_samples, ), for example using ravel().\n",
      "  y = column_or_1d(y, warn=True)\n",
      "c:\\users\\arbaz\\anaconda3\\envs\\tensorflow\\lib\\site-packages\\sklearn\\utils\\validation.py:578: DataConversionWarning: A column-vector y was passed when a 1d array was expected. Please change the shape of y to (n_samples, ), for example using ravel().\n",
      "  y = column_or_1d(y, warn=True)\n",
      "c:\\users\\arbaz\\anaconda3\\envs\\tensorflow\\lib\\site-packages\\sklearn\\utils\\validation.py:578: DataConversionWarning: A column-vector y was passed when a 1d array was expected. Please change the shape of y to (n_samples, ), for example using ravel().\n",
      "  y = column_or_1d(y, warn=True)\n"
     ]
    },
    {
     "name": "stdout",
     "output_type": "stream",
     "text": [
      "ScaledGBM: -0.000013 (0.000016)\n"
     ]
    },
    {
     "name": "stderr",
     "output_type": "stream",
     "text": [
      "c:\\users\\arbaz\\anaconda3\\envs\\tensorflow\\lib\\site-packages\\sklearn\\pipeline.py:250: DataConversionWarning: A column-vector y was passed when a 1d array was expected. Please change the shape of y to (n_samples,), for example using ravel().\n",
      "  self._final_estimator.fit(Xt, y, **fit_params)\n",
      "c:\\users\\arbaz\\anaconda3\\envs\\tensorflow\\lib\\site-packages\\sklearn\\pipeline.py:250: DataConversionWarning: A column-vector y was passed when a 1d array was expected. Please change the shape of y to (n_samples,), for example using ravel().\n",
      "  self._final_estimator.fit(Xt, y, **fit_params)\n",
      "c:\\users\\arbaz\\anaconda3\\envs\\tensorflow\\lib\\site-packages\\sklearn\\pipeline.py:250: DataConversionWarning: A column-vector y was passed when a 1d array was expected. Please change the shape of y to (n_samples,), for example using ravel().\n",
      "  self._final_estimator.fit(Xt, y, **fit_params)\n",
      "c:\\users\\arbaz\\anaconda3\\envs\\tensorflow\\lib\\site-packages\\sklearn\\pipeline.py:250: DataConversionWarning: A column-vector y was passed when a 1d array was expected. Please change the shape of y to (n_samples,), for example using ravel().\n",
      "  self._final_estimator.fit(Xt, y, **fit_params)\n",
      "c:\\users\\arbaz\\anaconda3\\envs\\tensorflow\\lib\\site-packages\\sklearn\\pipeline.py:250: DataConversionWarning: A column-vector y was passed when a 1d array was expected. Please change the shape of y to (n_samples,), for example using ravel().\n",
      "  self._final_estimator.fit(Xt, y, **fit_params)\n",
      "c:\\users\\arbaz\\anaconda3\\envs\\tensorflow\\lib\\site-packages\\sklearn\\pipeline.py:250: DataConversionWarning: A column-vector y was passed when a 1d array was expected. Please change the shape of y to (n_samples,), for example using ravel().\n",
      "  self._final_estimator.fit(Xt, y, **fit_params)\n",
      "c:\\users\\arbaz\\anaconda3\\envs\\tensorflow\\lib\\site-packages\\sklearn\\pipeline.py:250: DataConversionWarning: A column-vector y was passed when a 1d array was expected. Please change the shape of y to (n_samples,), for example using ravel().\n",
      "  self._final_estimator.fit(Xt, y, **fit_params)\n",
      "c:\\users\\arbaz\\anaconda3\\envs\\tensorflow\\lib\\site-packages\\sklearn\\pipeline.py:250: DataConversionWarning: A column-vector y was passed when a 1d array was expected. Please change the shape of y to (n_samples,), for example using ravel().\n",
      "  self._final_estimator.fit(Xt, y, **fit_params)\n",
      "c:\\users\\arbaz\\anaconda3\\envs\\tensorflow\\lib\\site-packages\\sklearn\\pipeline.py:250: DataConversionWarning: A column-vector y was passed when a 1d array was expected. Please change the shape of y to (n_samples,), for example using ravel().\n",
      "  self._final_estimator.fit(Xt, y, **fit_params)\n",
      "c:\\users\\arbaz\\anaconda3\\envs\\tensorflow\\lib\\site-packages\\sklearn\\pipeline.py:250: DataConversionWarning: A column-vector y was passed when a 1d array was expected. Please change the shape of y to (n_samples,), for example using ravel().\n",
      "  self._final_estimator.fit(Xt, y, **fit_params)\n",
      "c:\\users\\arbaz\\anaconda3\\envs\\tensorflow\\lib\\site-packages\\sklearn\\pipeline.py:250: DataConversionWarning: A column-vector y was passed when a 1d array was expected. Please change the shape of y to (n_samples,), for example using ravel().\n",
      "  self._final_estimator.fit(Xt, y, **fit_params)\n",
      "c:\\users\\arbaz\\anaconda3\\envs\\tensorflow\\lib\\site-packages\\sklearn\\pipeline.py:250: DataConversionWarning: A column-vector y was passed when a 1d array was expected. Please change the shape of y to (n_samples,), for example using ravel().\n",
      "  self._final_estimator.fit(Xt, y, **fit_params)\n",
      "c:\\users\\arbaz\\anaconda3\\envs\\tensorflow\\lib\\site-packages\\sklearn\\pipeline.py:250: DataConversionWarning: A column-vector y was passed when a 1d array was expected. Please change the shape of y to (n_samples,), for example using ravel().\n",
      "  self._final_estimator.fit(Xt, y, **fit_params)\n",
      "c:\\users\\arbaz\\anaconda3\\envs\\tensorflow\\lib\\site-packages\\sklearn\\pipeline.py:250: DataConversionWarning: A column-vector y was passed when a 1d array was expected. Please change the shape of y to (n_samples,), for example using ravel().\n",
      "  self._final_estimator.fit(Xt, y, **fit_params)\n",
      "c:\\users\\arbaz\\anaconda3\\envs\\tensorflow\\lib\\site-packages\\sklearn\\pipeline.py:250: DataConversionWarning: A column-vector y was passed when a 1d array was expected. Please change the shape of y to (n_samples,), for example using ravel().\n",
      "  self._final_estimator.fit(Xt, y, **fit_params)\n",
      "c:\\users\\arbaz\\anaconda3\\envs\\tensorflow\\lib\\site-packages\\sklearn\\pipeline.py:250: DataConversionWarning: A column-vector y was passed when a 1d array was expected. Please change the shape of y to (n_samples,), for example using ravel().\n",
      "  self._final_estimator.fit(Xt, y, **fit_params)\n",
      "c:\\users\\arbaz\\anaconda3\\envs\\tensorflow\\lib\\site-packages\\sklearn\\pipeline.py:250: DataConversionWarning: A column-vector y was passed when a 1d array was expected. Please change the shape of y to (n_samples,), for example using ravel().\n",
      "  self._final_estimator.fit(Xt, y, **fit_params)\n"
     ]
    },
    {
     "name": "stdout",
     "output_type": "stream",
     "text": [
      "ScaledRF: -0.000015 (0.000017)\n",
      "ScaledET: -0.000017 (0.000020)\n"
     ]
    },
    {
     "name": "stderr",
     "output_type": "stream",
     "text": [
      "c:\\users\\arbaz\\anaconda3\\envs\\tensorflow\\lib\\site-packages\\sklearn\\pipeline.py:250: DataConversionWarning: A column-vector y was passed when a 1d array was expected. Please change the shape of y to (n_samples,), for example using ravel().\n",
      "  self._final_estimator.fit(Xt, y, **fit_params)\n",
      "c:\\users\\arbaz\\anaconda3\\envs\\tensorflow\\lib\\site-packages\\sklearn\\pipeline.py:250: DataConversionWarning: A column-vector y was passed when a 1d array was expected. Please change the shape of y to (n_samples,), for example using ravel().\n",
      "  self._final_estimator.fit(Xt, y, **fit_params)\n",
      "c:\\users\\arbaz\\anaconda3\\envs\\tensorflow\\lib\\site-packages\\sklearn\\pipeline.py:250: DataConversionWarning: A column-vector y was passed when a 1d array was expected. Please change the shape of y to (n_samples,), for example using ravel().\n",
      "  self._final_estimator.fit(Xt, y, **fit_params)\n"
     ]
    }
   ],
   "source": [
    "results = [] \n",
    "names = [] \n",
    "for name, model in ensembles: \n",
    "    kfold = KFold(n_splits=num_folds, random_state=seed) \n",
    "    cv_results = cross_val_score(model, X1, y, cv=kfold, scoring=scoring) \n",
    "    results.append(cv_results) \n",
    "    names.append(name) \n",
    "    msg = \"%s: %f (%f)\" % (name, cv_results.mean(), cv_results.std()) \n",
    "    print(msg)"
   ]
  },
  {
   "cell_type": "code",
   "execution_count": 121,
   "metadata": {},
   "outputs": [
    {
     "data": {
      "image/png": "[encoded data removed]",
      "text/plain": [
       "<Figure size 432x288 with 1 Axes>"
      ]
     },
     "metadata": {},
     "output_type": "display_data"
    }
   ],
   "source": [
    "fig = plt.figure() \n",
    "fig.suptitle('Algorithm Comparison') \n",
    "ax = fig.add_subplot(111) \n",
    "plt.boxplot(results) \n",
    "ax.set_xticklabels(names) \n",
    "plt.show()"
   ]
  },
  {
   "cell_type": "code",
   "execution_count": 139,
   "metadata": {},
   "outputs": [
    {
     "name": "stderr",
     "output_type": "stream",
     "text": [
      "c:\\users\\arbaz\\anaconda3\\envs\\tensorflow\\lib\\site-packages\\sklearn\\utils\\validation.py:578: DataConversionWarning: A column-vector y was passed when a 1d array was expected. Please change the shape of y to (n_samples, ), for example using ravel().\n",
      "  y = column_or_1d(y, warn=True)\n",
      "c:\\users\\arbaz\\anaconda3\\envs\\tensorflow\\lib\\site-packages\\sklearn\\utils\\validation.py:578: DataConversionWarning: A column-vector y was passed when a 1d array was expected. Please change the shape of y to (n_samples, ), for example using ravel().\n",
      "  y = column_or_1d(y, warn=True)\n",
      "c:\\users\\arbaz\\anaconda3\\envs\\tensorflow\\lib\\site-packages\\sklearn\\utils\\validation.py:578: DataConversionWarning: A column-vector y was passed when a 1d array was expected. Please change the shape of y to (n_samples, ), for example using ravel().\n",
      "  y = column_or_1d(y, warn=True)\n",
      "c:\\users\\arbaz\\anaconda3\\envs\\tensorflow\\lib\\site-packages\\sklearn\\utils\\validation.py:578: DataConversionWarning: A column-vector y was passed when a 1d array was expected. Please change the shape of y to (n_samples, ), for example using ravel().\n",
      "  y = column_or_1d(y, warn=True)\n",
      "c:\\users\\arbaz\\anaconda3\\envs\\tensorflow\\lib\\site-packages\\sklearn\\utils\\validation.py:578: DataConversionWarning: A column-vector y was passed when a 1d array was expected. Please change the shape of y to (n_samples, ), for example using ravel().\n",
      "  y = column_or_1d(y, warn=True)\n",
      "c:\\users\\arbaz\\anaconda3\\envs\\tensorflow\\lib\\site-packages\\sklearn\\utils\\validation.py:578: DataConversionWarning: A column-vector y was passed when a 1d array was expected. Please change the shape of y to (n_samples, ), for example using ravel().\n",
      "  y = column_or_1d(y, warn=True)\n",
      "c:\\users\\arbaz\\anaconda3\\envs\\tensorflow\\lib\\site-packages\\sklearn\\utils\\validation.py:578: DataConversionWarning: A column-vector y was passed when a 1d array was expected. Please change the shape of y to (n_samples, ), for example using ravel().\n",
      "  y = column_or_1d(y, warn=True)\n",
      "c:\\users\\arbaz\\anaconda3\\envs\\tensorflow\\lib\\site-packages\\sklearn\\utils\\validation.py:578: DataConversionWarning: A column-vector y was passed when a 1d array was expected. Please change the shape of y to (n_samples, ), for example using ravel().\n",
      "  y = column_or_1d(y, warn=True)\n",
      "c:\\users\\arbaz\\anaconda3\\envs\\tensorflow\\lib\\site-packages\\sklearn\\utils\\validation.py:578: DataConversionWarning: A column-vector y was passed when a 1d array was expected. Please change the shape of y to (n_samples, ), for example using ravel().\n",
      "  y = column_or_1d(y, warn=True)\n",
      "c:\\users\\arbaz\\anaconda3\\envs\\tensorflow\\lib\\site-packages\\sklearn\\utils\\validation.py:578: DataConversionWarning: A column-vector y was passed when a 1d array was expected. Please change the shape of y to (n_samples, ), for example using ravel().\n",
      "  y = column_or_1d(y, warn=True)\n",
      "c:\\users\\arbaz\\anaconda3\\envs\\tensorflow\\lib\\site-packages\\sklearn\\utils\\validation.py:578: DataConversionWarning: A column-vector y was passed when a 1d array was expected. Please change the shape of y to (n_samples, ), for example using ravel().\n",
      "  y = column_or_1d(y, warn=True)\n",
      "c:\\users\\arbaz\\anaconda3\\envs\\tensorflow\\lib\\site-packages\\sklearn\\utils\\validation.py:578: DataConversionWarning: A column-vector y was passed when a 1d array was expected. Please change the shape of y to (n_samples, ), for example using ravel().\n",
      "  y = column_or_1d(y, warn=True)\n",
      "c:\\users\\arbaz\\anaconda3\\envs\\tensorflow\\lib\\site-packages\\sklearn\\utils\\validation.py:578: DataConversionWarning: A column-vector y was passed when a 1d array was expected. Please change the shape of y to (n_samples, ), for example using ravel().\n",
      "  y = column_or_1d(y, warn=True)\n",
      "c:\\users\\arbaz\\anaconda3\\envs\\tensorflow\\lib\\site-packages\\sklearn\\utils\\validation.py:578: DataConversionWarning: A column-vector y was passed when a 1d array was expected. Please change the shape of y to (n_samples, ), for example using ravel().\n",
      "  y = column_or_1d(y, warn=True)\n",
      "c:\\users\\arbaz\\anaconda3\\envs\\tensorflow\\lib\\site-packages\\sklearn\\utils\\validation.py:578: DataConversionWarning: A column-vector y was passed when a 1d array was expected. Please change the shape of y to (n_samples, ), for example using ravel().\n",
      "  y = column_or_1d(y, warn=True)\n",
      "c:\\users\\arbaz\\anaconda3\\envs\\tensorflow\\lib\\site-packages\\sklearn\\utils\\validation.py:578: DataConversionWarning: A column-vector y was passed when a 1d array was expected. Please change the shape of y to (n_samples, ), for example using ravel().\n",
      "  y = column_or_1d(y, warn=True)\n",
      "c:\\users\\arbaz\\anaconda3\\envs\\tensorflow\\lib\\site-packages\\sklearn\\utils\\validation.py:578: DataConversionWarning: A column-vector y was passed when a 1d array was expected. Please change the shape of y to (n_samples, ), for example using ravel().\n",
      "  y = column_or_1d(y, warn=True)\n",
      "c:\\users\\arbaz\\anaconda3\\envs\\tensorflow\\lib\\site-packages\\sklearn\\utils\\validation.py:578: DataConversionWarning: A column-vector y was passed when a 1d array was expected. Please change the shape of y to (n_samples, ), for example using ravel().\n",
      "  y = column_or_1d(y, warn=True)\n",
      "c:\\users\\arbaz\\anaconda3\\envs\\tensorflow\\lib\\site-packages\\sklearn\\utils\\validation.py:578: DataConversionWarning: A column-vector y was passed when a 1d array was expected. Please change the shape of y to (n_samples, ), for example using ravel().\n",
      "  y = column_or_1d(y, warn=True)\n",
      "c:\\users\\arbaz\\anaconda3\\envs\\tensorflow\\lib\\site-packages\\sklearn\\utils\\validation.py:578: DataConversionWarning: A column-vector y was passed when a 1d array was expected. Please change the shape of y to (n_samples, ), for example using ravel().\n",
      "  y = column_or_1d(y, warn=True)\n",
      "c:\\users\\arbaz\\anaconda3\\envs\\tensorflow\\lib\\site-packages\\sklearn\\utils\\validation.py:578: DataConversionWarning: A column-vector y was passed when a 1d array was expected. Please change the shape of y to (n_samples, ), for example using ravel().\n",
      "  y = column_or_1d(y, warn=True)\n",
      "c:\\users\\arbaz\\anaconda3\\envs\\tensorflow\\lib\\site-packages\\sklearn\\utils\\validation.py:578: DataConversionWarning: A column-vector y was passed when a 1d array was expected. Please change the shape of y to (n_samples, ), for example using ravel().\n",
      "  y = column_or_1d(y, warn=True)\n",
      "c:\\users\\arbaz\\anaconda3\\envs\\tensorflow\\lib\\site-packages\\sklearn\\utils\\validation.py:578: DataConversionWarning: A column-vector y was passed when a 1d array was expected. Please change the shape of y to (n_samples, ), for example using ravel().\n",
      "  y = column_or_1d(y, warn=True)\n",
      "c:\\users\\arbaz\\anaconda3\\envs\\tensorflow\\lib\\site-packages\\sklearn\\utils\\validation.py:578: DataConversionWarning: A column-vector y was passed when a 1d array was expected. Please change the shape of y to (n_samples, ), for example using ravel().\n",
      "  y = column_or_1d(y, warn=True)\n",
      "c:\\users\\arbaz\\anaconda3\\envs\\tensorflow\\lib\\site-packages\\sklearn\\utils\\validation.py:578: DataConversionWarning: A column-vector y was passed when a 1d array was expected. Please change the shape of y to (n_samples, ), for example using ravel().\n",
      "  y = column_or_1d(y, warn=True)\n",
      "c:\\users\\arbaz\\anaconda3\\envs\\tensorflow\\lib\\site-packages\\sklearn\\utils\\validation.py:578: DataConversionWarning: A column-vector y was passed when a 1d array was expected. Please change the shape of y to (n_samples, ), for example using ravel().\n",
      "  y = column_or_1d(y, warn=True)\n",
      "c:\\users\\arbaz\\anaconda3\\envs\\tensorflow\\lib\\site-packages\\sklearn\\utils\\validation.py:578: DataConversionWarning: A column-vector y was passed when a 1d array was expected. Please change the shape of y to (n_samples, ), for example using ravel().\n",
      "  y = column_or_1d(y, warn=True)\n",
      "c:\\users\\arbaz\\anaconda3\\envs\\tensorflow\\lib\\site-packages\\sklearn\\utils\\validation.py:578: DataConversionWarning: A column-vector y was passed when a 1d array was expected. Please change the shape of y to (n_samples, ), for example using ravel().\n",
      "  y = column_or_1d(y, warn=True)\n",
      "c:\\users\\arbaz\\anaconda3\\envs\\tensorflow\\lib\\site-packages\\sklearn\\utils\\validation.py:578: DataConversionWarning: A column-vector y was passed when a 1d array was expected. Please change the shape of y to (n_samples, ), for example using ravel().\n",
      "  y = column_or_1d(y, warn=True)\n",
      "c:\\users\\arbaz\\anaconda3\\envs\\tensorflow\\lib\\site-packages\\sklearn\\utils\\validation.py:578: DataConversionWarning: A column-vector y was passed when a 1d array was expected. Please change the shape of y to (n_samples, ), for example using ravel().\n",
      "  y = column_or_1d(y, warn=True)\n",
      "c:\\users\\arbaz\\anaconda3\\envs\\tensorflow\\lib\\site-packages\\sklearn\\utils\\validation.py:578: DataConversionWarning: A column-vector y was passed when a 1d array was expected. Please change the shape of y to (n_samples, ), for example using ravel().\n",
      "  y = column_or_1d(y, warn=True)\n",
      "c:\\users\\arbaz\\anaconda3\\envs\\tensorflow\\lib\\site-packages\\sklearn\\utils\\validation.py:578: DataConversionWarning: A column-vector y was passed when a 1d array was expected. Please change the shape of y to (n_samples, ), for example using ravel().\n",
      "  y = column_or_1d(y, warn=True)\n"
     ]
    },
    {
     "name": "stderr",
     "output_type": "stream",
     "text": [
      "c:\\users\\arbaz\\anaconda3\\envs\\tensorflow\\lib\\site-packages\\sklearn\\utils\\validation.py:578: DataConversionWarning: A column-vector y was passed when a 1d array was expected. Please change the shape of y to (n_samples, ), for example using ravel().\n",
      "  y = column_or_1d(y, warn=True)\n",
      "c:\\users\\arbaz\\anaconda3\\envs\\tensorflow\\lib\\site-packages\\sklearn\\utils\\validation.py:578: DataConversionWarning: A column-vector y was passed when a 1d array was expected. Please change the shape of y to (n_samples, ), for example using ravel().\n",
      "  y = column_or_1d(y, warn=True)\n",
      "c:\\users\\arbaz\\anaconda3\\envs\\tensorflow\\lib\\site-packages\\sklearn\\utils\\validation.py:578: DataConversionWarning: A column-vector y was passed when a 1d array was expected. Please change the shape of y to (n_samples, ), for example using ravel().\n",
      "  y = column_or_1d(y, warn=True)\n",
      "c:\\users\\arbaz\\anaconda3\\envs\\tensorflow\\lib\\site-packages\\sklearn\\utils\\validation.py:578: DataConversionWarning: A column-vector y was passed when a 1d array was expected. Please change the shape of y to (n_samples, ), for example using ravel().\n",
      "  y = column_or_1d(y, warn=True)\n",
      "c:\\users\\arbaz\\anaconda3\\envs\\tensorflow\\lib\\site-packages\\sklearn\\utils\\validation.py:578: DataConversionWarning: A column-vector y was passed when a 1d array was expected. Please change the shape of y to (n_samples, ), for example using ravel().\n",
      "  y = column_or_1d(y, warn=True)\n",
      "c:\\users\\arbaz\\anaconda3\\envs\\tensorflow\\lib\\site-packages\\sklearn\\utils\\validation.py:578: DataConversionWarning: A column-vector y was passed when a 1d array was expected. Please change the shape of y to (n_samples, ), for example using ravel().\n",
      "  y = column_or_1d(y, warn=True)\n",
      "c:\\users\\arbaz\\anaconda3\\envs\\tensorflow\\lib\\site-packages\\sklearn\\utils\\validation.py:578: DataConversionWarning: A column-vector y was passed when a 1d array was expected. Please change the shape of y to (n_samples, ), for example using ravel().\n",
      "  y = column_or_1d(y, warn=True)\n",
      "c:\\users\\arbaz\\anaconda3\\envs\\tensorflow\\lib\\site-packages\\sklearn\\utils\\validation.py:578: DataConversionWarning: A column-vector y was passed when a 1d array was expected. Please change the shape of y to (n_samples, ), for example using ravel().\n",
      "  y = column_or_1d(y, warn=True)\n",
      "c:\\users\\arbaz\\anaconda3\\envs\\tensorflow\\lib\\site-packages\\sklearn\\utils\\validation.py:578: DataConversionWarning: A column-vector y was passed when a 1d array was expected. Please change the shape of y to (n_samples, ), for example using ravel().\n",
      "  y = column_or_1d(y, warn=True)\n",
      "c:\\users\\arbaz\\anaconda3\\envs\\tensorflow\\lib\\site-packages\\sklearn\\utils\\validation.py:578: DataConversionWarning: A column-vector y was passed when a 1d array was expected. Please change the shape of y to (n_samples, ), for example using ravel().\n",
      "  y = column_or_1d(y, warn=True)\n",
      "c:\\users\\arbaz\\anaconda3\\envs\\tensorflow\\lib\\site-packages\\sklearn\\utils\\validation.py:578: DataConversionWarning: A column-vector y was passed when a 1d array was expected. Please change the shape of y to (n_samples, ), for example using ravel().\n",
      "  y = column_or_1d(y, warn=True)\n",
      "c:\\users\\arbaz\\anaconda3\\envs\\tensorflow\\lib\\site-packages\\sklearn\\utils\\validation.py:578: DataConversionWarning: A column-vector y was passed when a 1d array was expected. Please change the shape of y to (n_samples, ), for example using ravel().\n",
      "  y = column_or_1d(y, warn=True)\n",
      "c:\\users\\arbaz\\anaconda3\\envs\\tensorflow\\lib\\site-packages\\sklearn\\utils\\validation.py:578: DataConversionWarning: A column-vector y was passed when a 1d array was expected. Please change the shape of y to (n_samples, ), for example using ravel().\n",
      "  y = column_or_1d(y, warn=True)\n",
      "c:\\users\\arbaz\\anaconda3\\envs\\tensorflow\\lib\\site-packages\\sklearn\\utils\\validation.py:578: DataConversionWarning: A column-vector y was passed when a 1d array was expected. Please change the shape of y to (n_samples, ), for example using ravel().\n",
      "  y = column_or_1d(y, warn=True)\n",
      "c:\\users\\arbaz\\anaconda3\\envs\\tensorflow\\lib\\site-packages\\sklearn\\utils\\validation.py:578: DataConversionWarning: A column-vector y was passed when a 1d array was expected. Please change the shape of y to (n_samples, ), for example using ravel().\n",
      "  y = column_or_1d(y, warn=True)\n",
      "c:\\users\\arbaz\\anaconda3\\envs\\tensorflow\\lib\\site-packages\\sklearn\\utils\\validation.py:578: DataConversionWarning: A column-vector y was passed when a 1d array was expected. Please change the shape of y to (n_samples, ), for example using ravel().\n",
      "  y = column_or_1d(y, warn=True)\n",
      "c:\\users\\arbaz\\anaconda3\\envs\\tensorflow\\lib\\site-packages\\sklearn\\utils\\validation.py:578: DataConversionWarning: A column-vector y was passed when a 1d array was expected. Please change the shape of y to (n_samples, ), for example using ravel().\n",
      "  y = column_or_1d(y, warn=True)\n",
      "c:\\users\\arbaz\\anaconda3\\envs\\tensorflow\\lib\\site-packages\\sklearn\\utils\\validation.py:578: DataConversionWarning: A column-vector y was passed when a 1d array was expected. Please change the shape of y to (n_samples, ), for example using ravel().\n",
      "  y = column_or_1d(y, warn=True)\n",
      "c:\\users\\arbaz\\anaconda3\\envs\\tensorflow\\lib\\site-packages\\sklearn\\utils\\validation.py:578: DataConversionWarning: A column-vector y was passed when a 1d array was expected. Please change the shape of y to (n_samples, ), for example using ravel().\n",
      "  y = column_or_1d(y, warn=True)\n"
     ]
    }
   ],
   "source": [
    " param_grid = dict(n_estimators=np.array([5,10,15,20,50])) \n",
    "model = GradientBoostingRegressor(random_state=seed) \n",
    "kfold = KFold(n_splits=num_folds, random_state=seed) \n",
    "grid = GridSearchCV(estimator=model, param_grid=param_grid, scoring=scoring, cv=kfold) \n",
    "grid_result = grid.fit(X1, y)"
   ]
  },
  {
   "cell_type": "code",
   "execution_count": 140,
   "metadata": {},
   "outputs": [
    {
     "name": "stdout",
     "output_type": "stream",
     "text": [
      "Best: -0.000012 using {'n_estimators': 50}\n",
      "-0.000106 (0.000064) with: {'n_estimators': 5}\n",
      "-0.000045 (0.000031) with: {'n_estimators': 10}\n",
      "-0.000023 (0.000020) with: {'n_estimators': 15}\n",
      "-0.000016 (0.000016) with: {'n_estimators': 20}\n",
      "-0.000012 (0.000015) with: {'n_estimators': 50}\n"
     ]
    }
   ],
   "source": [
    "print(\"Best: %f using %s\" % (grid_result.best_score_, grid_result.best_params_))\n",
    "means = grid_result.cv_results_['mean_test_score'] \n",
    "stds = grid_result.cv_results_['std_test_score'] \n",
    "params = grid_result.cv_results_['params'] \n",
    "for mean, stdev, param in zip(means, stds, params): \n",
    "    print(\"%f (%f) with: %r\" % (mean, stdev, param))"
   ]
  },
  {
   "cell_type": "code",
   "execution_count": 124,
   "metadata": {},
   "outputs": [
    {
     "data": {
      "text/plain": [
       "array([[  3.4533026],\n",
       "       [  3.4533026],\n",
       "       [  3.4533026],\n",
       "       [  3.4533026],\n",
       "       [  3.4533026],\n",
       "       [  3.4533026],\n",
       "       [  3.4533026],\n",
       "       [  3.4533026],\n",
       "       [  5.595424 ],\n",
       "       [  5.4006314],\n",
       "       [  5.4006314],\n",
       "       [  5.984999 ],\n",
       "       [  5.595424 ],\n",
       "       [  5.790227 ],\n",
       "       [  5.984999 ],\n",
       "       [  5.790227 ],\n",
       "       [  5.984999 ],\n",
       "       [  5.4006314],\n",
       "       [  6.3746247],\n",
       "       [  5.790227 ],\n",
       "       [  5.790227 ],\n",
       "       [  5.790227 ],\n",
       "       [  5.4006314],\n",
       "       [  5.4006314],\n",
       "       [  5.4006314],\n",
       "       [  5.4006314],\n",
       "       [  5.4006314],\n",
       "       [  5.4006314],\n",
       "       [  5.4006314],\n",
       "       [  5.4006314],\n",
       "       [  5.4006314],\n",
       "       [  5.4006314],\n",
       "       [  5.4006314],\n",
       "       [  6.179822 ],\n",
       "       [  5.790227 ],\n",
       "       [  5.4006314],\n",
       "       [  5.4006314],\n",
       "       [  5.4006314],\n",
       "       [  5.4006314],\n",
       "       [  5.4006314],\n",
       "       [  5.4006314],\n",
       "       [  5.4006314],\n",
       "       [  5.4006314],\n",
       "       [  5.4006314],\n",
       "       [  5.790227 ],\n",
       "       [  5.4006314],\n",
       "       [  5.4006314],\n",
       "       [  5.4006314],\n",
       "       [  5.4006314],\n",
       "       [  5.595424 ],\n",
       "       [  5.790227 ],\n",
       "       [  5.4006314],\n",
       "       [  5.984999 ],\n",
       "       [  5.4006314],\n",
       "       [  5.4006314],\n",
       "       [  5.4006314],\n",
       "       [  5.4006314],\n",
       "       [  5.595424 ],\n",
       "       [  5.790227 ],\n",
       "       [  5.4006314],\n",
       "       [  5.4006314],\n",
       "       [  5.4006314],\n",
       "       [  5.0111275],\n",
       "       [  5.4006314],\n",
       "       [  5.4006314],\n",
       "       [  5.4006314],\n",
       "       [  5.4006314],\n",
       "       [  5.984999 ],\n",
       "       [  5.790227 ],\n",
       "       [  5.595424 ],\n",
       "       [  5.4006314],\n",
       "       [  5.4006314],\n",
       "       [  5.4006314],\n",
       "       [  5.4006314],\n",
       "       [  5.4006314],\n",
       "       [  5.4006314],\n",
       "       [  5.790227 ],\n",
       "       [  5.4006314],\n",
       "       [  5.4006314],\n",
       "       [  5.595424 ],\n",
       "       [  8.517949 ],\n",
       "       [ 12.027084 ],\n",
       "       [ 18.661652 ],\n",
       "       [ 25.304274 ],\n",
       "       [ 31.17205  ],\n",
       "       [ 39.00527  ],\n",
       "       [ 45.867973 ],\n",
       "       [ 52.73875  ],\n",
       "       [ 60.797318 ],\n",
       "       [ 70.04813  ],\n",
       "       [ 79.11508  ],\n",
       "       [ 89.182205 ],\n",
       "       [ 97.87948  ],\n",
       "       [104.01351  ],\n",
       "       [112.530594 ],\n",
       "       [121.85092  ],\n",
       "       [130.58638  ],\n",
       "       [142.71211  ],\n",
       "       [155.25305  ],\n",
       "       [166.41467  ],\n",
       "       [179.78506  ],\n",
       "       [191.5726   ],\n",
       "       [204.57245  ],\n",
       "       [215.58246  ],\n",
       "       [230.00821  ],\n",
       "       [243.4437   ],\n",
       "       [257.89258  ],\n",
       "       [273.75705  ],\n",
       "       [285.2094   ],\n",
       "       [300.28412  ],\n",
       "       [314.15753  ],\n",
       "       [328.63724  ],\n",
       "       [341.91196  ],\n",
       "       [361.4223   ],\n",
       "       [379.92496  ],\n",
       "       [388.37048  ],\n",
       "       [394.60342  ],\n",
       "       [389.77805  ],\n",
       "       [417.11575  ],\n",
       "       [434.7951   ],\n",
       "       [445.23764  ],\n",
       "       [456.68002  ],\n",
       "       [469.1209   ],\n",
       "       [477.14407  ],\n",
       "       [486.96902  ],\n",
       "       [494.3853   ],\n",
       "       [495.7881   ],\n",
       "       [510.41223  ],\n",
       "       [522.82526  ],\n",
       "       [533.6309   ],\n",
       "       [533.83093  ],\n",
       "       [547.2303   ],\n",
       "       [551.02856  ],\n",
       "       [560.821    ],\n",
       "       [568.01245  ],\n",
       "       [575.00183  ],\n",
       "       [576.79877  ],\n",
       "       [581.5897   ],\n",
       "       [585.78094  ],\n",
       "       [589.7718   ],\n",
       "       [589.3728   ],\n",
       "       [591.56744  ],\n",
       "       [593.1634   ],\n",
       "       [590.76935  ],\n",
       "       [595.55725  ],\n",
       "       [598.948    ],\n",
       "       [594.75934  ],\n",
       "       [594.75934  ],\n",
       "       [597.5519   ],\n",
       "       [600.7428   ],\n",
       "       [593.5624   ],\n",
       "       [589.3728   ],\n",
       "       [583.1865   ],\n",
       "       [575.00183  ],\n",
       "       [567.81274  ],\n",
       "       [575.2016   ],\n",
       "       [575.80054  ],\n",
       "       [566.8141   ],\n",
       "       [543.83124  ],\n",
       "       [535.6314   ],\n",
       "       [538.8317   ],\n",
       "       [540.63165  ],\n",
       "       [528.2288   ],\n",
       "       [512.4148   ],\n",
       "       [503.4019   ],\n",
       "       [488.77322  ],\n",
       "       [477.9463   ],\n",
       "       [469.72275  ],\n",
       "       [458.48633  ],\n",
       "       [456.68002  ],\n",
       "       [433.79086  ],\n",
       "       [426.35825  ],\n",
       "       [412.29263  ],\n",
       "       [399.62946  ],\n",
       "       [389.57693  ],\n",
       "       [376.3051   ],\n",
       "       [366.24936  ],\n",
       "       [346.73926  ],\n",
       "       [332.45862  ],\n",
       "       [328.4361   ],\n",
       "       [311.34232  ],\n",
       "       [294.0525   ],\n",
       "       [277.17215  ],\n",
       "       [269.53894  ],\n",
       "       [255.48376  ],\n",
       "       [242.64131  ],\n",
       "       [227.20212  ],\n",
       "       [215.58246  ],\n",
       "       [203.97214  ],\n",
       "       [187.97514  ],\n",
       "       [174.99371  ],\n",
       "       [163.02498  ],\n",
       "       [150.87169  ],\n",
       "       [138.13805  ],\n",
       "       [127.011635 ],\n",
       "       [115.30567  ],\n",
       "       [106.38941  ],\n",
       "       [ 95.901886 ],\n",
       "       [ 85.627365 ],\n",
       "       [ 75.95994  ],\n",
       "       [ 62.174187 ],\n",
       "       [ 49.00793  ],\n",
       "       [ 43.12191  ],\n",
       "       [ 38.417385 ],\n",
       "       [ 33.129314 ],\n",
       "       [ 27.063946 ],\n",
       "       [ 22.568165 ],\n",
       "       [ 17.295033 ],\n",
       "       [ 12.612119 ],\n",
       "       [  8.517949 ],\n",
       "       [  5.595424 ],\n",
       "       [  5.4006314],\n",
       "       [  5.4006314],\n",
       "       [  5.4006314],\n",
       "       [  5.4006314],\n",
       "       [  5.4006314],\n",
       "       [  5.0111275],\n",
       "       [  5.0111275],\n",
       "       [  5.0111275],\n",
       "       [  4.8163652],\n",
       "       [  4.8163652],\n",
       "       [  5.4006314],\n",
       "       [  5.4006314],\n",
       "       [  5.4006314],\n",
       "       [  5.4006314],\n",
       "       [  5.2058997],\n",
       "       [  5.0111275],\n",
       "       [  5.4006314],\n",
       "       [  5.4006314],\n",
       "       [  5.2058997],\n",
       "       [  5.0111275],\n",
       "       [  5.4006314],\n",
       "       [  4.8163652],\n",
       "       [  5.4006314],\n",
       "       [  5.4006314],\n",
       "       [  4.6216435],\n",
       "       [  5.2058997],\n",
       "       [  5.4006314],\n",
       "       [  5.4006314],\n",
       "       [  5.4006314],\n",
       "       [  5.4006314],\n",
       "       [  4.4268813],\n",
       "       [  5.0111275],\n",
       "       [  4.6216435],\n",
       "       [  5.4006314],\n",
       "       [  5.4006314],\n",
       "       [  5.2058997],\n",
       "       [  4.4268813],\n",
       "       [  5.4006314],\n",
       "       [  5.4006314],\n",
       "       [  5.2058997],\n",
       "       [  5.0111275],\n",
       "       [  4.4268813],\n",
       "       [  4.4268813],\n",
       "       [  4.4268813],\n",
       "       [  5.0111275],\n",
       "       [  4.4268813],\n",
       "       [  4.4268813],\n",
       "       [  4.4268813],\n",
       "       [  5.4006314],\n",
       "       [  5.2058997],\n",
       "       [  4.8163652],\n",
       "       [  4.4268813],\n",
       "       [  5.0111275],\n",
       "       [  5.2058997],\n",
       "       [  4.8163652],\n",
       "       [  4.8163652],\n",
       "       [  4.8163652],\n",
       "       [  5.2058997],\n",
       "       [  4.8163652],\n",
       "       [  4.4268813],\n",
       "       [  4.4268813],\n",
       "       [  4.4268813],\n",
       "       [  4.4268813],\n",
       "       [  4.4268813],\n",
       "       [  4.4268813],\n",
       "       [  4.8163652],\n",
       "       [  5.4006314],\n",
       "       [  5.4006314],\n",
       "       [  5.4006314],\n",
       "       [  5.4006314],\n",
       "       [  5.4006314],\n",
       "       [  5.4006314],\n",
       "       [  5.4006314],\n",
       "       [  3.8426652],\n",
       "       [  3.4533026],\n",
       "       [  3.4533026],\n",
       "       [  3.4533026]], dtype=float32)"
      ]
     },
     "execution_count": 124,
     "metadata": {},
     "output_type": "execute_result"
    }
   ],
   "source": [
    "y_pred"
   ]
  },
  {
   "cell_type": "code",
   "execution_count": 125,
   "metadata": {},
   "outputs": [
    {
     "data": {
      "text/plain": [
       "[<matplotlib.lines.Line2D at 0x25707f77198>]"
      ]
     },
     "execution_count": 125,
     "metadata": {},
     "output_type": "execute_result"
    },
    {
     "data": {
      "image/png": "[encoded data removed]",
      "text/plain": [
       "<Figure size 432x288 with 1 Axes>"
      ]
     },
     "metadata": {},
     "output_type": "display_data"
    }
   ],
   "source": [
    "plt.plot(y_pred)"
   ]
  },
  {
   "cell_type": "code",
   "execution_count": 126,
   "metadata": {},
   "outputs": [
    {
     "data": {
      "text/plain": [
       "array([[0.00000000e+00],\n",
       "       [0.00000000e+00],\n",
       "       [0.00000000e+00],\n",
       "       [0.00000000e+00],\n",
       "       [0.00000000e+00],\n",
       "       [0.00000000e+00],\n",
       "       [0.00000000e+00],\n",
       "       [0.00000000e+00],\n",
       "       [3.24388086e-03],\n",
       "       [2.94898260e-03],\n",
       "       [2.94898260e-03],\n",
       "       [3.83367738e-03],\n",
       "       [3.24388086e-03],\n",
       "       [3.53877912e-03],\n",
       "       [3.83367738e-03],\n",
       "       [3.53877912e-03],\n",
       "       [3.83367738e-03],\n",
       "       [2.94898260e-03],\n",
       "       [4.42347390e-03],\n",
       "       [3.53877912e-03],\n",
       "       [3.53877912e-03],\n",
       "       [3.53877912e-03],\n",
       "       [2.94898260e-03],\n",
       "       [2.94898260e-03],\n",
       "       [2.94898260e-03],\n",
       "       [2.94898260e-03],\n",
       "       [2.94898260e-03],\n",
       "       [2.94898260e-03],\n",
       "       [2.94898260e-03],\n",
       "       [2.94898260e-03],\n",
       "       [2.94898260e-03],\n",
       "       [2.94898260e-03],\n",
       "       [2.94898260e-03],\n",
       "       [4.12857564e-03],\n",
       "       [3.53877912e-03],\n",
       "       [2.94898260e-03],\n",
       "       [2.94898260e-03],\n",
       "       [2.94898260e-03],\n",
       "       [2.94898260e-03],\n",
       "       [2.94898260e-03],\n",
       "       [2.94898260e-03],\n",
       "       [2.94898260e-03],\n",
       "       [2.94898260e-03],\n",
       "       [2.94898260e-03],\n",
       "       [3.53877912e-03],\n",
       "       [2.94898260e-03],\n",
       "       [2.94898260e-03],\n",
       "       [2.94898260e-03],\n",
       "       [2.94898260e-03],\n",
       "       [3.24388086e-03],\n",
       "       [3.53877912e-03],\n",
       "       [2.94898260e-03],\n",
       "       [3.83367738e-03],\n",
       "       [2.94898260e-03],\n",
       "       [2.94898260e-03],\n",
       "       [2.94898260e-03],\n",
       "       [2.94898260e-03],\n",
       "       [3.24388086e-03],\n",
       "       [3.53877912e-03],\n",
       "       [2.94898260e-03],\n",
       "       [2.94898260e-03],\n",
       "       [2.94898260e-03],\n",
       "       [2.35918608e-03],\n",
       "       [2.94898260e-03],\n",
       "       [2.94898260e-03],\n",
       "       [2.94898260e-03],\n",
       "       [2.94898260e-03],\n",
       "       [3.83367738e-03],\n",
       "       [3.53877912e-03],\n",
       "       [3.24388086e-03],\n",
       "       [2.94898260e-03],\n",
       "       [2.94898260e-03],\n",
       "       [2.94898260e-03],\n",
       "       [2.94898260e-03],\n",
       "       [2.94898260e-03],\n",
       "       [2.94898260e-03],\n",
       "       [3.53877912e-03],\n",
       "       [2.94898260e-03],\n",
       "       [2.94898260e-03],\n",
       "       [3.24388086e-03],\n",
       "       [7.66735476e-03],\n",
       "       [1.29755234e-02],\n",
       "       [2.30020643e-02],\n",
       "       [3.30286051e-02],\n",
       "       [4.18755529e-02],\n",
       "       [5.36714833e-02],\n",
       "       [6.39929224e-02],\n",
       "       [7.43143615e-02],\n",
       "       [8.64051902e-02],\n",
       "       [1.00265408e-01],\n",
       "       [1.13830728e-01],\n",
       "       [1.28870540e-01],\n",
       "       [1.41846063e-01],\n",
       "       [1.50987909e-01],\n",
       "       [1.63668534e-01],\n",
       "       [1.77528753e-01],\n",
       "       [1.90504276e-01],\n",
       "       [2.08493070e-01],\n",
       "       [2.27071660e-01],\n",
       "       [2.43585963e-01],\n",
       "       [2.63344146e-01],\n",
       "       [2.80743144e-01],\n",
       "       [2.99911531e-01],\n",
       "       [3.16130935e-01],\n",
       "       [3.37363610e-01],\n",
       "       [3.57121793e-01],\n",
       "       [3.78354468e-01],\n",
       "       [4.01651430e-01],\n",
       "       [4.18460631e-01],\n",
       "       [4.40578001e-01],\n",
       "       [4.60925981e-01],\n",
       "       [4.82158655e-01],\n",
       "       [5.01621940e-01],\n",
       "       [5.30227072e-01],\n",
       "       [5.57357712e-01],\n",
       "       [5.69743439e-01],\n",
       "       [5.78885285e-01],\n",
       "       [5.71807726e-01],\n",
       "       [6.11913890e-01],\n",
       "       [6.37864937e-01],\n",
       "       [6.53199646e-01],\n",
       "       [6.70008847e-01],\n",
       "       [6.88292539e-01],\n",
       "       [7.00088469e-01],\n",
       "       [7.14538484e-01],\n",
       "       [7.25449720e-01],\n",
       "       [7.27514008e-01],\n",
       "       [7.49041581e-01],\n",
       "       [7.67325273e-01],\n",
       "       [7.83249779e-01],\n",
       "       [7.83544677e-01],\n",
       "       [8.03302861e-01],\n",
       "       [8.08905927e-01],\n",
       "       [8.23355942e-01],\n",
       "       [8.33972280e-01],\n",
       "       [8.44293719e-01],\n",
       "       [8.46947803e-01],\n",
       "       [8.54025361e-01],\n",
       "       [8.60218225e-01],\n",
       "       [8.66116190e-01],\n",
       "       [8.65526393e-01],\n",
       "       [8.68770274e-01],\n",
       "       [8.71129460e-01],\n",
       "       [8.67590681e-01],\n",
       "       [8.74668239e-01],\n",
       "       [8.79681510e-01],\n",
       "       [8.73488646e-01],\n",
       "       [8.73488646e-01],\n",
       "       [8.77617222e-01],\n",
       "       [8.82335594e-01],\n",
       "       [8.71719257e-01],\n",
       "       [8.65526393e-01],\n",
       "       [8.56384547e-01],\n",
       "       [8.44293719e-01],\n",
       "       [8.33677381e-01],\n",
       "       [8.44588617e-01],\n",
       "       [8.45473312e-01],\n",
       "       [8.32202890e-01],\n",
       "       [7.98289590e-01],\n",
       "       [7.86198761e-01],\n",
       "       [7.90917134e-01],\n",
       "       [7.93571218e-01],\n",
       "       [7.75287526e-01],\n",
       "       [7.51990563e-01],\n",
       "       [7.38720142e-01],\n",
       "       [7.17192569e-01],\n",
       "       [7.01268063e-01],\n",
       "       [6.89177234e-01],\n",
       "       [6.72662931e-01],\n",
       "       [6.70008847e-01],\n",
       "       [6.36390445e-01],\n",
       "       [6.25479210e-01],\n",
       "       [6.04836331e-01],\n",
       "       [5.86257741e-01],\n",
       "       [5.71512828e-01],\n",
       "       [5.52049543e-01],\n",
       "       [5.37304630e-01],\n",
       "       [5.08699499e-01],\n",
       "       [4.87761722e-01],\n",
       "       [4.81863757e-01],\n",
       "       [4.56797405e-01],\n",
       "       [4.31436155e-01],\n",
       "       [4.06664701e-01],\n",
       "       [3.95458567e-01],\n",
       "       [3.74815689e-01],\n",
       "       [3.55942200e-01],\n",
       "       [3.33235034e-01],\n",
       "       [3.16130935e-01],\n",
       "       [2.99026836e-01],\n",
       "       [2.75434975e-01],\n",
       "       [2.56266588e-01],\n",
       "       [2.38572692e-01],\n",
       "       [2.20583899e-01],\n",
       "       [2.01710410e-01],\n",
       "       [1.85196107e-01],\n",
       "       [1.67797110e-01],\n",
       "       [1.54526688e-01],\n",
       "       [1.38897081e-01],\n",
       "       [1.23562371e-01],\n",
       "       [1.09112356e-01],\n",
       "       [8.84694780e-02],\n",
       "       [6.87112946e-02],\n",
       "       [5.98643468e-02],\n",
       "       [5.27867886e-02],\n",
       "       [4.48245355e-02],\n",
       "       [3.56826895e-02],\n",
       "       [2.89000295e-02],\n",
       "       [2.09377765e-02],\n",
       "       [1.38602182e-02],\n",
       "       [7.66735476e-03],\n",
       "       [3.24388086e-03],\n",
       "       [2.94898260e-03],\n",
       "       [2.94898260e-03],\n",
       "       [2.94898260e-03],\n",
       "       [2.94898260e-03],\n",
       "       [2.94898260e-03],\n",
       "       [2.35918608e-03],\n",
       "       [2.35918608e-03],\n",
       "       [2.35918608e-03],\n",
       "       [2.06428782e-03],\n",
       "       [2.06428782e-03],\n",
       "       [2.94898260e-03],\n",
       "       [2.94898260e-03],\n",
       "       [2.94898260e-03],\n",
       "       [2.94898260e-03],\n",
       "       [2.65408434e-03],\n",
       "       [2.35918608e-03],\n",
       "       [2.94898260e-03],\n",
       "       [2.94898260e-03],\n",
       "       [2.65408434e-03],\n",
       "       [2.35918608e-03],\n",
       "       [2.94898260e-03],\n",
       "       [2.06428782e-03],\n",
       "       [2.94898260e-03],\n",
       "       [2.94898260e-03],\n",
       "       [1.76938956e-03],\n",
       "       [2.65408434e-03],\n",
       "       [2.94898260e-03],\n",
       "       [2.94898260e-03],\n",
       "       [2.94898260e-03],\n",
       "       [2.94898260e-03],\n",
       "       [1.47449130e-03],\n",
       "       [2.35918608e-03],\n",
       "       [1.76938956e-03],\n",
       "       [2.94898260e-03],\n",
       "       [2.94898260e-03],\n",
       "       [2.65408434e-03],\n",
       "       [1.47449130e-03],\n",
       "       [2.94898260e-03],\n",
       "       [2.94898260e-03],\n",
       "       [2.65408434e-03],\n",
       "       [2.35918608e-03],\n",
       "       [1.47449130e-03],\n",
       "       [1.47449130e-03],\n",
       "       [1.47449130e-03],\n",
       "       [2.35918608e-03],\n",
       "       [1.47449130e-03],\n",
       "       [1.47449130e-03],\n",
       "       [1.47449130e-03],\n",
       "       [2.94898260e-03],\n",
       "       [2.65408434e-03],\n",
       "       [2.06428782e-03],\n",
       "       [1.47449130e-03],\n",
       "       [2.35918608e-03],\n",
       "       [2.65408434e-03],\n",
       "       [2.06428782e-03],\n",
       "       [2.06428782e-03],\n",
       "       [2.06428782e-03],\n",
       "       [2.65408434e-03],\n",
       "       [2.06428782e-03],\n",
       "       [1.47449130e-03],\n",
       "       [1.47449130e-03],\n",
       "       [1.47449130e-03],\n",
       "       [1.47449130e-03],\n",
       "       [1.47449130e-03],\n",
       "       [1.47449130e-03],\n",
       "       [2.06428782e-03],\n",
       "       [2.94898260e-03],\n",
       "       [2.94898260e-03],\n",
       "       [2.94898260e-03],\n",
       "       [2.94898260e-03],\n",
       "       [2.94898260e-03],\n",
       "       [2.94898260e-03],\n",
       "       [2.94898260e-03],\n",
       "       [5.89796520e-04],\n",
       "       [0.00000000e+00],\n",
       "       [0.00000000e+00],\n",
       "       [0.00000000e+00],\n",
       "       [0.00000000e+00]])"
      ]
     },
     "execution_count": 126,
     "metadata": {},
     "output_type": "execute_result"
    }
   ],
   "source": [
    "X2"
   ]
  },
  {
   "cell_type": "code",
   "execution_count": 127,
   "metadata": {},
   "outputs": [],
   "source": [
    "y_pred=sc.transform(y_pred)"
   ]
  },
  {
   "cell_type": "code",
   "execution_count": 129,
   "metadata": {},
   "outputs": [
    {
     "data": {
      "text/plain": [
       "[<matplotlib.lines.Line2D at 0x25707ed89b0>]"
      ]
     },
     "execution_count": 129,
     "metadata": {},
     "output_type": "execute_result"
    },
    {
     "data": {
      "image/png": "[encoded data removed]",
      "text/plain": [
       "<Figure size 432x288 with 1 Axes>"
      ]
     },
     "metadata": {},
     "output_type": "display_data"
    }
   ],
   "source": [
    "plt.plot(y_pred)\n",
    "plt.plot(X2,color=\"red\")"
   ]
  },
  {
   "cell_type": "code",
   "execution_count": null,
   "metadata": {},
   "outputs": [],
   "source": []
  }
 ],
 "metadata": {
  "kernelspec": {
   "display_name": "Python 3",
   "language": "python",
   "name": "python3"
  },
  "language_info": {
   "codemirror_mode": {
    "name": "ipython",
    "version": 3
   },
   "file_extension": ".py",
   "mimetype": "text/x-python",
   "name": "python",
   "nbconvert_exporter": "python",
   "pygments_lexer": "ipython3",
   "version": "3.5.5"
  }
 },
 "nbformat": 4,
 "nbformat_minor": 2
}
